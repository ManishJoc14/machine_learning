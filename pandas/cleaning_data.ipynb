{
 "cells": [
  {
   "cell_type": "markdown",
   "id": "1fef6a68",
   "metadata": {},
   "source": [
    "# Data cleaning\n",
    "\n",
    "It means fixing bad data in your data set.\n",
    "\n",
    "Bad data could be:\n",
    "\n",
    "- Empty cells\n",
    "- Data in wrong format\n",
    "- Wrong data\n",
    "- Duplicates"
   ]
  },
  {
   "cell_type": "code",
   "execution_count": 1,
   "id": "8d3dd260",
   "metadata": {},
   "outputs": [],
   "source": [
    "import pandas as pd"
   ]
  },
  {
   "cell_type": "code",
   "execution_count": 10,
   "id": "bfee06c9",
   "metadata": {},
   "outputs": [
    {
     "name": "stdout",
     "output_type": "stream",
     "text": [
      "   Duration        Date              Pulse          Maxpulse        Calories\n",
      "0        60  2020/12/01                110               130           409.1\n",
      "1        60  2020-12-02                117               145           479.0\n",
      "2        60  2020/12/03  one hundred three               135           340.0\n",
      "3            2020/12/04                109               175           282.4\n",
      "4        45  2020/12/05                117               148           406.0\n",
      "5        60  12/06/2020                102  one twenty-seven           300.0\n",
      "6        60  2020/12/07                110               136            None\n",
      "7       450  2020/12/08                104               134           253.3\n",
      "8       -30  2020/12/09                109               133           195.1\n",
      "9        60  12-10-2020                 98               124  two sixty-nine\n",
      "10       60  2020/12/11                103               147           329.3\n",
      "11       60  2020/12/12                100               120           250.7\n",
      "12       60  2020/12/12                100               120           250.7\n",
      "13       45        None                 90               112           280.0\n",
      "14       45  2020/12/05                117               148           406.0\n",
      "15       45  not a date                 97               125           243.0\n",
      "16       60  2020/12/17               -100               120           300.0\n",
      "17       60  2020/12/18                100               300           200.0\n",
      "18     None  2020/12/19                103               123           323.0\n",
      "19       60                             92               118           241.0\n",
      "20       60  2020/12/20                103               132            None\n"
     ]
    }
   ],
   "source": [
    "df = pd.read_json('data.json')\n",
    "print(df)\n",
    "\n",
    "# here data is messy : \n",
    "# Empty cells ➔ missing fields or null\n",
    "# Wrong formats ➔ wrong date types, wrong data types\n",
    "# Wrong data ➔ like negative Duration or Pulse\n",
    "# Duplicates ➔ same row repeated"
   ]
  },
  {
   "cell_type": "markdown",
   "id": "4fee6257",
   "metadata": {},
   "source": [
    "# Handle missing values and wrong values"
   ]
  },
  {
   "cell_type": "code",
   "execution_count": 13,
   "id": "0729955b",
   "metadata": {},
   "outputs": [
    {
     "name": "stdout",
     "output_type": "stream",
     "text": [
      "Duration    1\n",
      "Date        1\n",
      "Pulse       0\n",
      "Maxpulse    0\n",
      "Calories    2\n",
      "dtype: int64\n"
     ]
    }
   ],
   "source": [
    "# Check for missing values\n",
    "print(df.isnull().sum())"
   ]
  },
  {
   "cell_type": "code",
   "execution_count": 74,
   "id": "dbbbb382",
   "metadata": {},
   "outputs": [],
   "source": [
    "# Fix Duration:\n",
    "\n",
    "# first convert them to numeric values\n",
    "df[\"Duration\"] = pd.to_numeric(df[\"Duration\"], errors=\"coerce\") # wrong format will become NaN\n",
    "\n",
    "# Fill missing values with the mean value\n",
    "df.fillna({\"Duration\": df[\"Duration\"].mean().__round__()}, inplace=True)  # inplace=True updates directly without needing to assign."
   ]
  },
  {
   "cell_type": "code",
   "execution_count": 75,
   "id": "7ff62496",
   "metadata": {},
   "outputs": [],
   "source": [
    "# Fix Date:\n",
    "\n",
    "# first convert them to datetime values\n",
    "df[\"Date\"] = pd.to_datetime(df[\"Date\"], errors=\"coerce\")  # wrong format will become NaT\n",
    "\n",
    "# forward fill the missing dates\n",
    "df.fillna({\"Date\": df[\"Date\"].ffill()}, inplace=True)"
   ]
  },
  {
   "cell_type": "code",
   "execution_count": 68,
   "id": "5bc0564f",
   "metadata": {},
   "outputs": [],
   "source": [
    "# fix Pulse\n",
    "\n",
    "# first convert them to numeric values\n",
    "df[\"Pulse\"] = pd.to_numeric(df[\"Pulse\"], errors=\"coerce\")\n",
    "\n",
    "# fill missing values with mean\n",
    "df.fillna({\"Pulse\": df[\"Pulse\"].mean()}, inplace=True)"
   ]
  },
  {
   "cell_type": "code",
   "execution_count": 67,
   "id": "c29405b5",
   "metadata": {},
   "outputs": [],
   "source": [
    "# fix Maxpulse\n",
    "\n",
    "# first convert them to numeric values\n",
    "df[\"Maxpulse\"] = pd.to_numeric(df[\"Maxpulse\"], errors=\"coerce\")\n",
    "\n",
    "# fill missing values with mean\n",
    "df.fillna({\"Maxpulse\": df[\"Maxpulse\"].mean()}, inplace=True)"
   ]
  },
  {
   "cell_type": "code",
   "execution_count": 66,
   "id": "2779901f",
   "metadata": {},
   "outputs": [],
   "source": [
    "# fix Calories\n",
    "\n",
    "# first convert them to numeric values\n",
    "df[\"Calories\"] = pd.to_numeric(df[\"Calories\"], errors=\"coerce\")\n",
    "\n",
    "# fill missing values with mean\n",
    "df.fillna({\"Calories\": df[\"Calories\"].mean().__round__(2)}, inplace=True)"
   ]
  },
  {
   "cell_type": "code",
   "execution_count": 72,
   "id": "0c234e99",
   "metadata": {},
   "outputs": [
    {
     "data": {
      "text/plain": [
       "Duration    0\n",
       "Date        0\n",
       "Pulse       0\n",
       "Maxpulse    0\n",
       "Calories    0\n",
       "dtype: int64"
      ]
     },
     "execution_count": 72,
     "metadata": {},
     "output_type": "execute_result"
    }
   ],
   "source": [
    "df.isna().sum()"
   ]
  },
  {
   "cell_type": "code",
   "execution_count": 76,
   "id": "e2f38260",
   "metadata": {},
   "outputs": [
    {
     "data": {
      "application/vnd.microsoft.datawrangler.viewer.v0+json": {
       "columns": [
        {
         "name": "index",
         "rawType": "int64",
         "type": "integer"
        },
        {
         "name": "Duration",
         "rawType": "float64",
         "type": "float"
        },
        {
         "name": "Date",
         "rawType": "datetime64[ns]",
         "type": "datetime"
        },
        {
         "name": "Pulse",
         "rawType": "float64",
         "type": "float"
        },
        {
         "name": "Maxpulse",
         "rawType": "float64",
         "type": "float"
        },
        {
         "name": "Calories",
         "rawType": "float64",
         "type": "float"
        }
       ],
       "conversionMethod": "pd.DataFrame",
       "ref": "f4ee962e-d731-4a55-b79c-59178869a44f",
       "rows": [
        [
         "0",
         "60.0",
         "2020-12-01 00:00:00",
         "110.0",
         "130.0",
         "409.1"
        ],
        [
         "1",
         "60.0",
         "2020-12-01 00:00:00",
         "117.0",
         "145.0",
         "479.0"
        ],
        [
         "2",
         "60.0",
         "2020-12-03 00:00:00",
         "94.05",
         "135.0",
         "340.0"
        ],
        [
         "3",
         "72.63157894736842",
         "2020-12-04 00:00:00",
         "109.0",
         "175.0",
         "282.4"
        ],
        [
         "4",
         "45.0",
         "2020-12-05 00:00:00",
         "117.0",
         "148.0",
         "406.0"
        ],
        [
         "5",
         "60.0",
         "2020-12-05 00:00:00",
         "102.0",
         "141.25",
         "300.0"
        ],
        [
         "6",
         "60.0",
         "2020-12-07 00:00:00",
         "110.0",
         "136.0",
         "304.92"
        ],
        [
         "7",
         "450.0",
         "2020-12-08 00:00:00",
         "104.0",
         "134.0",
         "253.3"
        ],
        [
         "8",
         "-30.0",
         "2020-12-09 00:00:00",
         "109.0",
         "133.0",
         "195.1"
        ],
        [
         "9",
         "60.0",
         "2020-12-09 00:00:00",
         "98.0",
         "124.0",
         "304.92"
        ],
        [
         "10",
         "60.0",
         "2020-12-11 00:00:00",
         "103.0",
         "147.0",
         "329.3"
        ],
        [
         "11",
         "60.0",
         "2020-12-12 00:00:00",
         "100.0",
         "120.0",
         "250.7"
        ],
        [
         "12",
         "60.0",
         "2020-12-12 00:00:00",
         "100.0",
         "120.0",
         "250.7"
        ],
        [
         "13",
         "45.0",
         "2020-12-12 00:00:00",
         "90.0",
         "112.0",
         "280.0"
        ],
        [
         "14",
         "45.0",
         "2020-12-05 00:00:00",
         "117.0",
         "148.0",
         "406.0"
        ],
        [
         "15",
         "45.0",
         "2020-12-05 00:00:00",
         "97.0",
         "125.0",
         "243.0"
        ],
        [
         "16",
         "60.0",
         "2020-12-17 00:00:00",
         "-100.0",
         "120.0",
         "300.0"
        ],
        [
         "17",
         "60.0",
         "2020-12-18 00:00:00",
         "100.0",
         "300.0",
         "200.0"
        ],
        [
         "18",
         "72.63157894736842",
         "2020-12-19 00:00:00",
         "103.0",
         "123.0",
         "323.0"
        ],
        [
         "19",
         "60.0",
         "2020-12-19 00:00:00",
         "92.0",
         "118.0",
         "241.0"
        ],
        [
         "20",
         "60.0",
         "2020-12-20 00:00:00",
         "103.0",
         "132.0",
         "304.92"
        ]
       ],
       "shape": {
        "columns": 5,
        "rows": 21
       }
      },
      "text/html": [
       "<div>\n",
       "<style scoped>\n",
       "    .dataframe tbody tr th:only-of-type {\n",
       "        vertical-align: middle;\n",
       "    }\n",
       "\n",
       "    .dataframe tbody tr th {\n",
       "        vertical-align: top;\n",
       "    }\n",
       "\n",
       "    .dataframe thead th {\n",
       "        text-align: right;\n",
       "    }\n",
       "</style>\n",
       "<table border=\"1\" class=\"dataframe\">\n",
       "  <thead>\n",
       "    <tr style=\"text-align: right;\">\n",
       "      <th></th>\n",
       "      <th>Duration</th>\n",
       "      <th>Date</th>\n",
       "      <th>Pulse</th>\n",
       "      <th>Maxpulse</th>\n",
       "      <th>Calories</th>\n",
       "    </tr>\n",
       "  </thead>\n",
       "  <tbody>\n",
       "    <tr>\n",
       "      <th>0</th>\n",
       "      <td>60.000000</td>\n",
       "      <td>2020-12-01</td>\n",
       "      <td>110.00</td>\n",
       "      <td>130.00</td>\n",
       "      <td>409.10</td>\n",
       "    </tr>\n",
       "    <tr>\n",
       "      <th>1</th>\n",
       "      <td>60.000000</td>\n",
       "      <td>2020-12-01</td>\n",
       "      <td>117.00</td>\n",
       "      <td>145.00</td>\n",
       "      <td>479.00</td>\n",
       "    </tr>\n",
       "    <tr>\n",
       "      <th>2</th>\n",
       "      <td>60.000000</td>\n",
       "      <td>2020-12-03</td>\n",
       "      <td>94.05</td>\n",
       "      <td>135.00</td>\n",
       "      <td>340.00</td>\n",
       "    </tr>\n",
       "    <tr>\n",
       "      <th>3</th>\n",
       "      <td>72.631579</td>\n",
       "      <td>2020-12-04</td>\n",
       "      <td>109.00</td>\n",
       "      <td>175.00</td>\n",
       "      <td>282.40</td>\n",
       "    </tr>\n",
       "    <tr>\n",
       "      <th>4</th>\n",
       "      <td>45.000000</td>\n",
       "      <td>2020-12-05</td>\n",
       "      <td>117.00</td>\n",
       "      <td>148.00</td>\n",
       "      <td>406.00</td>\n",
       "    </tr>\n",
       "    <tr>\n",
       "      <th>5</th>\n",
       "      <td>60.000000</td>\n",
       "      <td>2020-12-05</td>\n",
       "      <td>102.00</td>\n",
       "      <td>141.25</td>\n",
       "      <td>300.00</td>\n",
       "    </tr>\n",
       "    <tr>\n",
       "      <th>6</th>\n",
       "      <td>60.000000</td>\n",
       "      <td>2020-12-07</td>\n",
       "      <td>110.00</td>\n",
       "      <td>136.00</td>\n",
       "      <td>304.92</td>\n",
       "    </tr>\n",
       "    <tr>\n",
       "      <th>7</th>\n",
       "      <td>450.000000</td>\n",
       "      <td>2020-12-08</td>\n",
       "      <td>104.00</td>\n",
       "      <td>134.00</td>\n",
       "      <td>253.30</td>\n",
       "    </tr>\n",
       "    <tr>\n",
       "      <th>8</th>\n",
       "      <td>-30.000000</td>\n",
       "      <td>2020-12-09</td>\n",
       "      <td>109.00</td>\n",
       "      <td>133.00</td>\n",
       "      <td>195.10</td>\n",
       "    </tr>\n",
       "    <tr>\n",
       "      <th>9</th>\n",
       "      <td>60.000000</td>\n",
       "      <td>2020-12-09</td>\n",
       "      <td>98.00</td>\n",
       "      <td>124.00</td>\n",
       "      <td>304.92</td>\n",
       "    </tr>\n",
       "    <tr>\n",
       "      <th>10</th>\n",
       "      <td>60.000000</td>\n",
       "      <td>2020-12-11</td>\n",
       "      <td>103.00</td>\n",
       "      <td>147.00</td>\n",
       "      <td>329.30</td>\n",
       "    </tr>\n",
       "    <tr>\n",
       "      <th>11</th>\n",
       "      <td>60.000000</td>\n",
       "      <td>2020-12-12</td>\n",
       "      <td>100.00</td>\n",
       "      <td>120.00</td>\n",
       "      <td>250.70</td>\n",
       "    </tr>\n",
       "    <tr>\n",
       "      <th>12</th>\n",
       "      <td>60.000000</td>\n",
       "      <td>2020-12-12</td>\n",
       "      <td>100.00</td>\n",
       "      <td>120.00</td>\n",
       "      <td>250.70</td>\n",
       "    </tr>\n",
       "    <tr>\n",
       "      <th>13</th>\n",
       "      <td>45.000000</td>\n",
       "      <td>2020-12-12</td>\n",
       "      <td>90.00</td>\n",
       "      <td>112.00</td>\n",
       "      <td>280.00</td>\n",
       "    </tr>\n",
       "    <tr>\n",
       "      <th>14</th>\n",
       "      <td>45.000000</td>\n",
       "      <td>2020-12-05</td>\n",
       "      <td>117.00</td>\n",
       "      <td>148.00</td>\n",
       "      <td>406.00</td>\n",
       "    </tr>\n",
       "    <tr>\n",
       "      <th>15</th>\n",
       "      <td>45.000000</td>\n",
       "      <td>2020-12-05</td>\n",
       "      <td>97.00</td>\n",
       "      <td>125.00</td>\n",
       "      <td>243.00</td>\n",
       "    </tr>\n",
       "    <tr>\n",
       "      <th>16</th>\n",
       "      <td>60.000000</td>\n",
       "      <td>2020-12-17</td>\n",
       "      <td>-100.00</td>\n",
       "      <td>120.00</td>\n",
       "      <td>300.00</td>\n",
       "    </tr>\n",
       "    <tr>\n",
       "      <th>17</th>\n",
       "      <td>60.000000</td>\n",
       "      <td>2020-12-18</td>\n",
       "      <td>100.00</td>\n",
       "      <td>300.00</td>\n",
       "      <td>200.00</td>\n",
       "    </tr>\n",
       "    <tr>\n",
       "      <th>18</th>\n",
       "      <td>72.631579</td>\n",
       "      <td>2020-12-19</td>\n",
       "      <td>103.00</td>\n",
       "      <td>123.00</td>\n",
       "      <td>323.00</td>\n",
       "    </tr>\n",
       "    <tr>\n",
       "      <th>19</th>\n",
       "      <td>60.000000</td>\n",
       "      <td>2020-12-19</td>\n",
       "      <td>92.00</td>\n",
       "      <td>118.00</td>\n",
       "      <td>241.00</td>\n",
       "    </tr>\n",
       "    <tr>\n",
       "      <th>20</th>\n",
       "      <td>60.000000</td>\n",
       "      <td>2020-12-20</td>\n",
       "      <td>103.00</td>\n",
       "      <td>132.00</td>\n",
       "      <td>304.92</td>\n",
       "    </tr>\n",
       "  </tbody>\n",
       "</table>\n",
       "</div>"
      ],
      "text/plain": [
       "      Duration       Date   Pulse  Maxpulse  Calories\n",
       "0    60.000000 2020-12-01  110.00    130.00    409.10\n",
       "1    60.000000 2020-12-01  117.00    145.00    479.00\n",
       "2    60.000000 2020-12-03   94.05    135.00    340.00\n",
       "3    72.631579 2020-12-04  109.00    175.00    282.40\n",
       "4    45.000000 2020-12-05  117.00    148.00    406.00\n",
       "5    60.000000 2020-12-05  102.00    141.25    300.00\n",
       "6    60.000000 2020-12-07  110.00    136.00    304.92\n",
       "7   450.000000 2020-12-08  104.00    134.00    253.30\n",
       "8   -30.000000 2020-12-09  109.00    133.00    195.10\n",
       "9    60.000000 2020-12-09   98.00    124.00    304.92\n",
       "10   60.000000 2020-12-11  103.00    147.00    329.30\n",
       "11   60.000000 2020-12-12  100.00    120.00    250.70\n",
       "12   60.000000 2020-12-12  100.00    120.00    250.70\n",
       "13   45.000000 2020-12-12   90.00    112.00    280.00\n",
       "14   45.000000 2020-12-05  117.00    148.00    406.00\n",
       "15   45.000000 2020-12-05   97.00    125.00    243.00\n",
       "16   60.000000 2020-12-17 -100.00    120.00    300.00\n",
       "17   60.000000 2020-12-18  100.00    300.00    200.00\n",
       "18   72.631579 2020-12-19  103.00    123.00    323.00\n",
       "19   60.000000 2020-12-19   92.00    118.00    241.00\n",
       "20   60.000000 2020-12-20  103.00    132.00    304.92"
      ]
     },
     "execution_count": 76,
     "metadata": {},
     "output_type": "execute_result"
    }
   ],
   "source": [
    "df"
   ]
  },
  {
   "cell_type": "markdown",
   "id": "b7e98484",
   "metadata": {},
   "source": [
    "# Remove Duplicates"
   ]
  },
  {
   "cell_type": "code",
   "execution_count": 77,
   "id": "0909d1e5",
   "metadata": {},
   "outputs": [],
   "source": [
    "df.drop_duplicates(inplace=True)"
   ]
  },
  {
   "cell_type": "markdown",
   "id": "9848247b",
   "metadata": {},
   "source": [
    "# Replacing Values"
   ]
  },
  {
   "cell_type": "code",
   "execution_count": 88,
   "id": "d150b3f9",
   "metadata": {},
   "outputs": [
    {
     "data": {
      "text/plain": [
       "count     19.000000\n",
       "mean      60.540166\n",
       "std       17.461974\n",
       "min       30.000000\n",
       "25%       60.000000\n",
       "50%       60.000000\n",
       "75%       60.000000\n",
       "max      120.000000\n",
       "Name: Duration, dtype: float64"
      ]
     },
     "execution_count": 88,
     "metadata": {},
     "output_type": "execute_result"
    }
   ],
   "source": [
    "# In our duration column, it is most likely a typo, and Duration should be \"45\" instead of \"450\",\n",
    "# and we could just insert \"45\" in row 7:\n",
    "# df.loc[7, 'Duration'] = 45\n",
    "\n",
    "# To replace wrong data for larger data sets we can create some rules;\n",
    "\n",
    "# If Duration is higher than 120, set it to 120:\n",
    "df.loc[df[\"Duration\"] > 120, \"Duration\"] = 120\n",
    "\n",
    "# # If Duration is lower than 30, set it to 30:\n",
    "df.loc[df[\"Duration\"] < 30, \"Duration\"] = 30\n",
    "\n",
    "df['Duration'].describe()"
   ]
  },
  {
   "cell_type": "markdown",
   "id": "1c319435",
   "metadata": {},
   "source": [
    "# Drop rows and columns"
   ]
  },
  {
   "cell_type": "code",
   "execution_count": null,
   "id": "a5128cfa",
   "metadata": {},
   "outputs": [],
   "source": [
    "# df.drop(index=0, inplace=True)          # Drops the row with index 0\n",
    "# df.drop(index=[0, 1, 2], inplace=True)  # Drops rows with indices 0, 1, and 2\n",
    "\n",
    "# df.dropna(inplace=True)                       # Drops rows where any column has NaN\n",
    "# df.dropna(subset=[\"Duration\"], inplace=True)  # Drops rows where 'Duration' column has NaN\n",
    "\n",
    "# mask = df[\"Duration\"] > 120\n",
    "\n",
    "# df.drop(df[mask].index, inplace=True)  # Drops rows where Duration > 120\n",
    "\n",
    "# After dropping rows, the DataFrame's index may not be continuous. \n",
    "# We can reset it using:\n",
    "# df.reset_index(drop=True, inplace=True)\n",
    "\n",
    "# To drop a column, use the drop method with axis=1\n",
    "# df.drop(columns=[\"ColumnName\"], inplace=True)  # Replace \"ColumnName\" with the name of the column to drop"
   ]
  },
  {
   "cell_type": "markdown",
   "id": "d64d63f3",
   "metadata": {},
   "source": [
    "# Correlation between columns"
   ]
  },
  {
   "cell_type": "code",
   "execution_count": 94,
   "id": "5b7610e6",
   "metadata": {},
   "outputs": [
    {
     "data": {
      "application/vnd.microsoft.datawrangler.viewer.v0+json": {
       "columns": [
        {
         "name": "index",
         "rawType": "object",
         "type": "string"
        },
        {
         "name": "Duration",
         "rawType": "float64",
         "type": "float"
        },
        {
         "name": "Date",
         "rawType": "float64",
         "type": "float"
        },
        {
         "name": "Pulse",
         "rawType": "float64",
         "type": "float"
        },
        {
         "name": "Maxpulse",
         "rawType": "float64",
         "type": "float"
        },
        {
         "name": "Calories",
         "rawType": "float64",
         "type": "float"
        }
       ],
       "conversionMethod": "pd.DataFrame",
       "ref": "70cf9d19-a858-4943-bcc8-219bc67e6a67",
       "rows": [
        [
         "Duration",
         "1.0",
         "0.035520318750864324",
         "0.009314730376169809",
         "0.04532121285959219",
         "-0.002100672963188468"
        ],
        [
         "Date",
         "0.035520318750864324",
         "1.0",
         "-0.3441508799549316",
         "0.123890887121399",
         "-0.4944642768157848"
        ],
        [
         "Pulse",
         "0.009314730376169809",
         "-0.3441508799549316",
         "1.0",
         "0.1471046635872347",
         "0.09605968025837508"
        ],
        [
         "Maxpulse",
         "0.04532121285959219",
         "0.123890887121399",
         "0.1471046635872347",
         "1.0",
         "-0.22685941824863412"
        ],
        [
         "Calories",
         "-0.002100672963188468",
         "-0.4944642768157848",
         "0.09605968025837508",
         "-0.22685941824863412",
         "1.0"
        ]
       ],
       "shape": {
        "columns": 5,
        "rows": 5
       }
      },
      "text/html": [
       "<div>\n",
       "<style scoped>\n",
       "    .dataframe tbody tr th:only-of-type {\n",
       "        vertical-align: middle;\n",
       "    }\n",
       "\n",
       "    .dataframe tbody tr th {\n",
       "        vertical-align: top;\n",
       "    }\n",
       "\n",
       "    .dataframe thead th {\n",
       "        text-align: right;\n",
       "    }\n",
       "</style>\n",
       "<table border=\"1\" class=\"dataframe\">\n",
       "  <thead>\n",
       "    <tr style=\"text-align: right;\">\n",
       "      <th></th>\n",
       "      <th>Duration</th>\n",
       "      <th>Date</th>\n",
       "      <th>Pulse</th>\n",
       "      <th>Maxpulse</th>\n",
       "      <th>Calories</th>\n",
       "    </tr>\n",
       "  </thead>\n",
       "  <tbody>\n",
       "    <tr>\n",
       "      <th>Duration</th>\n",
       "      <td>1.000000</td>\n",
       "      <td>0.035520</td>\n",
       "      <td>0.009315</td>\n",
       "      <td>0.045321</td>\n",
       "      <td>-0.002101</td>\n",
       "    </tr>\n",
       "    <tr>\n",
       "      <th>Date</th>\n",
       "      <td>0.035520</td>\n",
       "      <td>1.000000</td>\n",
       "      <td>-0.344151</td>\n",
       "      <td>0.123891</td>\n",
       "      <td>-0.494464</td>\n",
       "    </tr>\n",
       "    <tr>\n",
       "      <th>Pulse</th>\n",
       "      <td>0.009315</td>\n",
       "      <td>-0.344151</td>\n",
       "      <td>1.000000</td>\n",
       "      <td>0.147105</td>\n",
       "      <td>0.096060</td>\n",
       "    </tr>\n",
       "    <tr>\n",
       "      <th>Maxpulse</th>\n",
       "      <td>0.045321</td>\n",
       "      <td>0.123891</td>\n",
       "      <td>0.147105</td>\n",
       "      <td>1.000000</td>\n",
       "      <td>-0.226859</td>\n",
       "    </tr>\n",
       "    <tr>\n",
       "      <th>Calories</th>\n",
       "      <td>-0.002101</td>\n",
       "      <td>-0.494464</td>\n",
       "      <td>0.096060</td>\n",
       "      <td>-0.226859</td>\n",
       "      <td>1.000000</td>\n",
       "    </tr>\n",
       "  </tbody>\n",
       "</table>\n",
       "</div>"
      ],
      "text/plain": [
       "          Duration      Date     Pulse  Maxpulse  Calories\n",
       "Duration  1.000000  0.035520  0.009315  0.045321 -0.002101\n",
       "Date      0.035520  1.000000 -0.344151  0.123891 -0.494464\n",
       "Pulse     0.009315 -0.344151  1.000000  0.147105  0.096060\n",
       "Maxpulse  0.045321  0.123891  0.147105  1.000000 -0.226859\n",
       "Calories -0.002101 -0.494464  0.096060 -0.226859  1.000000"
      ]
     },
     "execution_count": 94,
     "metadata": {},
     "output_type": "execute_result"
    }
   ],
   "source": [
    "df.corr()"
   ]
  },
  {
   "cell_type": "markdown",
   "id": "31327291",
   "metadata": {},
   "source": [
    "**The number varies from -1 to 1.**\n",
    "\n",
    "- 1 means that there is a 1 to 1 relationship (a perfect correlation), and if you increase one value, the other will also increase.\n",
    "\n",
    "- 0.9 is also a good relationship, and if you increase one value, the other will probably increase as well.\n",
    "\n",
    "- 0 is bad correlation, if you increase one , other will not be affected.\n",
    "\n",
    "- -0.9 would be just as good relationship as 0.9, but if you increase one value, the other will probably decrease.\n",
    "\n",
    "- -1 would be just as 1 to 1 relationship (a perfect correlation), but if you increase one value, the other decrease.\n"
   ]
  },
  {
   "cell_type": "markdown",
   "id": "1fb62c88",
   "metadata": {},
   "source": []
  }
 ],
 "metadata": {
  "kernelspec": {
   "display_name": "venv",
   "language": "python",
   "name": "python3"
  },
  "language_info": {
   "codemirror_mode": {
    "name": "ipython",
    "version": 3
   },
   "file_extension": ".py",
   "mimetype": "text/x-python",
   "name": "python",
   "nbconvert_exporter": "python",
   "pygments_lexer": "ipython3",
   "version": "3.12.6"
  }
 },
 "nbformat": 4,
 "nbformat_minor": 5
}
