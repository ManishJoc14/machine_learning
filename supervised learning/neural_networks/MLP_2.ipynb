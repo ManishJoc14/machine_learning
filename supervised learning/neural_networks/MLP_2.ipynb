{
 "cells": [
  {
   "cell_type": "code",
   "execution_count": 1,
   "id": "00769b24-8349-4754-881a-b91f3284d168",
   "metadata": {},
   "outputs": [],
   "source": [
    "import torch\n",
    "import torch.nn as nn\n",
    "import torch.optim as optim\n",
    "import torchvision\n",
    "import torchvision.transforms as transforms\n",
    "from torch.utils.data import DataLoader, Dataset\n",
    "from torchvision.datasets import ImageFolder\n",
    "from PIL import Image, UnidentifiedImageError\n",
    "import os\n",
    "import numpy as np\n",
    "import matplotlib.pyplot as plt\n",
    "from tqdm import tqdm"
   ]
  },
  {
   "cell_type": "code",
   "execution_count": 2,
   "id": "b3778040-72cf-4d58-87a2-c3382dac0803",
   "metadata": {},
   "outputs": [],
   "source": [
    "# Set random seed for reproducibility\n",
    "torch.manual_seed(42)\n",
    "\n",
    "# Define paths to dataset (adjust 'dataset' to your folder path)\n",
    "train_dir = 'dataset/train'\n",
    "validation_dir = 'dataset/validation'\n",
    "\n",
    "# Image preprocessing transformations\n",
    "IMG_SIZE = (64, 64)\n",
    "transform = transforms.Compose([\n",
    "    transforms.Resize(IMG_SIZE),  # Resize to 64x64\n",
    "    transforms.Grayscale(num_output_channels=1),  # Convert to grayscale\n",
    "    transforms.ToTensor(),  # Convert to tensor and normalize to [0, 1]\n",
    "])\n",
    "\n",
    "# Custom dataset to skip unidentifiable images\n",
    "class SafeImageFolder(ImageFolder):\n",
    "    def __getitem__(self, index):\n",
    "        try:\n",
    "            return super(SafeImageFolder, self).__getitem__(index)\n",
    "        except UnidentifiedImageError:\n",
    "            print(f\"Skipping unidentifiable image: {self.samples[index][0]}\")\n",
    "            return None  # Return None for invalid images\n",
    "\n",
    "# Custom collate function to filter None values\n",
    "def safe_collate(batch):\n",
    "    batch = [item for item in batch if item is not None]\n",
    "    if len(batch) == 0:\n",
    "        return None  # Return None if batch is empty\n",
    "    return torch.utils.data.dataloader.default_collate(batch)"
   ]
  },
  {
   "cell_type": "code",
   "execution_count": 3,
   "id": "ba726d92-7da2-41b9-910e-bc6ba827521c",
   "metadata": {},
   "outputs": [],
   "source": [
    "# Load datasets\n",
    "train_dataset = SafeImageFolder(train_dir, transform=transform)\n",
    "validation_dataset = SafeImageFolder(validation_dir, transform=transform)\n",
    "\n",
    "# Create data loaders with custom collate\n",
    "BATCH_SIZE = 32\n",
    "train_loader = DataLoader(train_dataset, batch_size=BATCH_SIZE, shuffle=True, collate_fn=safe_collate)\n",
    "validation_loader = DataLoader(validation_dataset, batch_size=BATCH_SIZE, shuffle=False, collate_fn=safe_collate)"
   ]
  },
  {
   "cell_type": "code",
   "execution_count": 4,
   "id": "6d90322f-e906-4e91-adf3-17e12ae9ca37",
   "metadata": {},
   "outputs": [],
   "source": [
    "class CatsDogsMLP(nn.Module):\n",
    "    def __init__(self):\n",
    "        super(CatsDogsMLP, self).__init__()\n",
    "        self.flatten = nn.Flatten()  # Flatten 64x64x1 to 4096\n",
    "        self.layer1 = nn.Linear(64 * 64 * 1, 512)  # Hidden layer 1: 4096 -> 512\n",
    "        self.relu1 = nn.ReLU()\n",
    "        self.layer2 = nn.Linear(512, 256)  # Hidden layer 2: 512 -> 256\n",
    "        self.relu2 = nn.ReLU()\n",
    "        self.layer3 = nn.Linear(256, 128)  # Hidden layer 3: 256 -> 128\n",
    "        self.relu3 = nn.ReLU()\n",
    "        self.output = nn.Linear(128, 1)  # Output layer: 128 -> 1\n",
    "        self.sigmoid = nn.Sigmoid()\n",
    "\n",
    "    def forward(self, x):\n",
    "        x = self.flatten(x)  # Shape: [batch, 4096]\n",
    "        x = self.layer1(x)   # Shape: [batch, 512]\n",
    "        x = self.relu1(x)\n",
    "        x = self.layer2(x)   # Shape: [batch, 256]\n",
    "        x = self.relu2(x)\n",
    "        x = self.layer3(x)   # Shape: [batch, 128]\n",
    "        x = self.relu3(x)\n",
    "        x = self.output(x)   # Shape: [batch, 1]\n",
    "        x = self.sigmoid(x)  # Shape: [batch, 1]\n",
    "        return x"
   ]
  },
  {
   "cell_type": "code",
   "execution_count": 5,
   "id": "cba7e8c6-43dc-4806-97a7-46c8371973e0",
   "metadata": {},
   "outputs": [],
   "source": [
    "# Initialize model, loss function, and optimizer\n",
    "model = CatsDogsMLP()\n",
    "criterion = nn.BCELoss()  # Binary cross-entropy loss\n",
    "optimizer = optim.Adam(model.parameters(), lr=0.001)"
   ]
  },
  {
   "cell_type": "code",
   "execution_count": 6,
   "id": "3d602a7d-8b19-4f8e-a9ed-76ad1738a1b8",
   "metadata": {},
   "outputs": [
    {
     "name": "stderr",
     "output_type": "stream",
     "text": [
      "Epoch 1/10 [Train]:  78%|██████████████████████████████████████████▊            | 232/298 [00:23<00:07,  9.17it/s, loss=0.791]"
     ]
    },
    {
     "name": "stdout",
     "output_type": "stream",
     "text": [
      "Skipping unidentifiable image: dataset/train\\dogs\\11702.jpg\n"
     ]
    },
    {
     "name": "stderr",
     "output_type": "stream",
     "text": [
      "Epoch 1/10 [Train]:  84%|██████████████████████████████████████████████▏        | 250/298 [00:25<00:04, 10.03it/s, loss=0.693]D:\\AI-ML classes\\venv\\Lib\\site-packages\\PIL\\TiffImagePlugin.py:950: UserWarning: Truncated File Read\n",
      "  warnings.warn(str(msg))\n",
      "Epoch 1/10 [Train]: 100%|███████████████████████████████████████████████████████| 298/298 [00:30<00:00,  9.91it/s, loss=0.646]\n"
     ]
    },
    {
     "name": "stdout",
     "output_type": "stream",
     "text": [
      "Skipping unidentifiable image: dataset/train\\dogs\\11702.jpg\n"
     ]
    },
    {
     "name": "stderr",
     "output_type": "stream",
     "text": [
      "Epoch 1/10 [Val]: 100%|███████████████████████████████████████████████████████| 34/34 [00:02<00:00, 11.73it/s, val_loss=0.694]\n"
     ]
    },
    {
     "name": "stdout",
     "output_type": "stream",
     "text": [
      "Epoch [1/10], Train Loss: 0.6872, Val Loss: 0.6874, Val Accuracy: 54.64%\n"
     ]
    },
    {
     "name": "stderr",
     "output_type": "stream",
     "text": [
      "Epoch 2/10 [Train]:  54%|██████████████████████████████▍                         | 162/298 [00:16<00:14,  9.70it/s, loss=0.67]"
     ]
    },
    {
     "name": "stdout",
     "output_type": "stream",
     "text": [
      "Skipping unidentifiable image: dataset/train\\dogs\\11702.jpg\n"
     ]
    },
    {
     "name": "stderr",
     "output_type": "stream",
     "text": [
      "Epoch 2/10 [Train]: 100%|███████████████████████████████████████████████████████| 298/298 [00:30<00:00,  9.75it/s, loss=0.625]\n"
     ]
    },
    {
     "name": "stdout",
     "output_type": "stream",
     "text": [
      "Skipping unidentifiable image: dataset/train\\dogs\\11702.jpg\n"
     ]
    },
    {
     "name": "stderr",
     "output_type": "stream",
     "text": [
      "Epoch 2/10 [Val]: 100%|███████████████████████████████████████████████████████| 34/34 [00:02<00:00, 15.89it/s, val_loss=0.703]\n"
     ]
    },
    {
     "name": "stdout",
     "output_type": "stream",
     "text": [
      "Epoch [2/10], Train Loss: 0.6784, Val Loss: 0.6968, Val Accuracy: 50.00%\n"
     ]
    },
    {
     "name": "stderr",
     "output_type": "stream",
     "text": [
      "Epoch 3/10 [Train]:  79%|███████████████████████████████████████████▌           | 236/298 [00:20<00:07,  8.65it/s, loss=0.672]"
     ]
    },
    {
     "name": "stdout",
     "output_type": "stream",
     "text": [
      "Skipping unidentifiable image: dataset/train\\dogs\\11702.jpg\n"
     ]
    },
    {
     "name": "stderr",
     "output_type": "stream",
     "text": [
      "Epoch 3/10 [Train]: 100%|███████████████████████████████████████████████████████| 298/298 [00:26<00:00, 11.21it/s, loss=0.732]\n"
     ]
    },
    {
     "name": "stdout",
     "output_type": "stream",
     "text": [
      "Skipping unidentifiable image: dataset/train\\dogs\\11702.jpg\n"
     ]
    },
    {
     "name": "stderr",
     "output_type": "stream",
     "text": [
      "Epoch 3/10 [Val]: 100%|███████████████████████████████████████████████████████| 34/34 [00:01<00:00, 18.45it/s, val_loss=0.688]\n"
     ]
    },
    {
     "name": "stdout",
     "output_type": "stream",
     "text": [
      "Epoch [3/10], Train Loss: 0.6652, Val Loss: 0.6816, Val Accuracy: 57.14%\n"
     ]
    },
    {
     "name": "stderr",
     "output_type": "stream",
     "text": [
      "Epoch 4/10 [Train]:  93%|███████████████████████████████████████████████████    | 277/298 [00:28<00:02,  9.49it/s, loss=0.665]"
     ]
    },
    {
     "name": "stdout",
     "output_type": "stream",
     "text": [
      "Skipping unidentifiable image: dataset/train\\dogs\\11702.jpg\n"
     ]
    },
    {
     "name": "stderr",
     "output_type": "stream",
     "text": [
      "Epoch 4/10 [Train]: 100%|███████████████████████████████████████████████████████| 298/298 [00:30<00:00,  9.68it/s, loss=0.712]\n"
     ]
    },
    {
     "name": "stdout",
     "output_type": "stream",
     "text": [
      "Skipping unidentifiable image: dataset/train\\dogs\\11702.jpg\n"
     ]
    },
    {
     "name": "stderr",
     "output_type": "stream",
     "text": [
      "Epoch 4/10 [Val]: 100%|████████████████████████████████████████████████████████| 34/34 [00:02<00:00, 11.36it/s, val_loss=0.66]\n"
     ]
    },
    {
     "name": "stdout",
     "output_type": "stream",
     "text": [
      "Epoch [4/10], Train Loss: 0.6592, Val Loss: 0.6538, Val Accuracy: 61.04%\n"
     ]
    },
    {
     "name": "stderr",
     "output_type": "stream",
     "text": [
      "Epoch 5/10 [Train]:  24%|█████████████▌                                           | 71/298 [00:07<00:23,  9.54it/s, loss=0.71]"
     ]
    },
    {
     "name": "stdout",
     "output_type": "stream",
     "text": [
      "Skipping unidentifiable image: dataset/train\\dogs\\11702.jpg\n"
     ]
    },
    {
     "name": "stderr",
     "output_type": "stream",
     "text": [
      "Epoch 5/10 [Train]: 100%|███████████████████████████████████████████████████████| 298/298 [00:28<00:00, 10.40it/s, loss=0.721]\n"
     ]
    },
    {
     "name": "stdout",
     "output_type": "stream",
     "text": [
      "Skipping unidentifiable image: dataset/train\\dogs\\11702.jpg\n"
     ]
    },
    {
     "name": "stderr",
     "output_type": "stream",
     "text": [
      "Epoch 5/10 [Val]: 100%|███████████████████████████████████████████████████████| 34/34 [00:02<00:00, 12.00it/s, val_loss=0.663]\n"
     ]
    },
    {
     "name": "stdout",
     "output_type": "stream",
     "text": [
      "Epoch [5/10], Train Loss: 0.6560, Val Loss: 0.6569, Val Accuracy: 61.78%\n"
     ]
    },
    {
     "name": "stderr",
     "output_type": "stream",
     "text": [
      "Epoch 6/10 [Train]:  62%|█████████████████████████████████▉                     | 184/298 [00:19<00:11,  9.64it/s, loss=0.642]"
     ]
    },
    {
     "name": "stdout",
     "output_type": "stream",
     "text": [
      "Skipping unidentifiable image: dataset/train\\dogs\\11702.jpg\n"
     ]
    },
    {
     "name": "stderr",
     "output_type": "stream",
     "text": [
      "Epoch 6/10 [Train]: 100%|███████████████████████████████████████████████████████| 298/298 [00:30<00:00,  9.65it/s, loss=0.648]\n"
     ]
    },
    {
     "name": "stdout",
     "output_type": "stream",
     "text": [
      "Skipping unidentifiable image: dataset/train\\dogs\\11702.jpg\n"
     ]
    },
    {
     "name": "stderr",
     "output_type": "stream",
     "text": [
      "Epoch 6/10 [Val]: 100%|███████████████████████████████████████████████████████| 34/34 [00:02<00:00, 11.89it/s, val_loss=0.671]\n"
     ]
    },
    {
     "name": "stdout",
     "output_type": "stream",
     "text": [
      "Epoch [6/10], Train Loss: 0.6534, Val Loss: 0.6644, Val Accuracy: 58.35%\n"
     ]
    },
    {
     "name": "stderr",
     "output_type": "stream",
     "text": [
      "Epoch 7/10 [Train]:  88%|█████████████████████████████████████████████████▍      | 263/298 [00:27<00:03,  9.70it/s, loss=0.68]"
     ]
    },
    {
     "name": "stdout",
     "output_type": "stream",
     "text": [
      "Skipping unidentifiable image: dataset/train\\dogs\\11702.jpg\n"
     ]
    },
    {
     "name": "stderr",
     "output_type": "stream",
     "text": [
      "Epoch 7/10 [Train]: 100%|███████████████████████████████████████████████████████| 298/298 [00:30<00:00,  9.64it/s, loss=0.608]\n"
     ]
    },
    {
     "name": "stdout",
     "output_type": "stream",
     "text": [
      "Skipping unidentifiable image: dataset/train\\dogs\\11702.jpg\n"
     ]
    },
    {
     "name": "stderr",
     "output_type": "stream",
     "text": [
      "Epoch 7/10 [Val]: 100%|███████████████████████████████████████████████████████| 34/34 [00:01<00:00, 18.53it/s, val_loss=0.683]\n"
     ]
    },
    {
     "name": "stdout",
     "output_type": "stream",
     "text": [
      "Epoch [7/10], Train Loss: 0.6527, Val Loss: 0.6767, Val Accuracy: 57.05%\n"
     ]
    },
    {
     "name": "stderr",
     "output_type": "stream",
     "text": [
      "Epoch 8/10 [Train]:  69%|██████████████████████████████████████                 | 206/298 [00:13<00:06, 14.09it/s, loss=0.608]"
     ]
    },
    {
     "name": "stdout",
     "output_type": "stream",
     "text": [
      "Skipping unidentifiable image: dataset/train\\dogs\\11702.jpg\n"
     ]
    },
    {
     "name": "stderr",
     "output_type": "stream",
     "text": [
      "Epoch 8/10 [Train]: 100%|███████████████████████████████████████████████████████| 298/298 [00:19<00:00, 14.93it/s, loss=0.567]\n"
     ]
    },
    {
     "name": "stdout",
     "output_type": "stream",
     "text": [
      "Skipping unidentifiable image: dataset/train\\dogs\\11702.jpg\n"
     ]
    },
    {
     "name": "stderr",
     "output_type": "stream",
     "text": [
      "Epoch 8/10 [Val]: 100%|███████████████████████████████████████████████████████| 34/34 [00:01<00:00, 19.49it/s, val_loss=0.674]\n"
     ]
    },
    {
     "name": "stdout",
     "output_type": "stream",
     "text": [
      "Epoch [8/10], Train Loss: 0.6480, Val Loss: 0.6682, Val Accuracy: 57.51%\n"
     ]
    },
    {
     "name": "stderr",
     "output_type": "stream",
     "text": [
      "Epoch 9/10 [Train]:  56%|██████████████████████████████▋                        | 166/298 [00:10<00:09, 14.51it/s, loss=0.595]"
     ]
    },
    {
     "name": "stdout",
     "output_type": "stream",
     "text": [
      "Skipping unidentifiable image: dataset/train\\dogs\\11702.jpg\n"
     ]
    },
    {
     "name": "stderr",
     "output_type": "stream",
     "text": [
      "Epoch 9/10 [Train]: 100%|███████████████████████████████████████████████████████| 298/298 [00:19<00:00, 15.17it/s, loss=0.671]\n"
     ]
    },
    {
     "name": "stdout",
     "output_type": "stream",
     "text": [
      "Skipping unidentifiable image: dataset/train\\dogs\\11702.jpg\n"
     ]
    },
    {
     "name": "stderr",
     "output_type": "stream",
     "text": [
      "Epoch 9/10 [Val]: 100%|███████████████████████████████████████████████████████| 34/34 [00:01<00:00, 19.45it/s, val_loss=0.672]\n"
     ]
    },
    {
     "name": "stdout",
     "output_type": "stream",
     "text": [
      "Epoch [9/10], Train Loss: 0.6435, Val Loss: 0.6660, Val Accuracy: 61.04%\n"
     ]
    },
    {
     "name": "stderr",
     "output_type": "stream",
     "text": [
      "Epoch 10/10 [Train]:  80%|███████████████████████████████████████████▏          | 238/298 [00:16<00:04, 13.79it/s, loss=0.746]"
     ]
    },
    {
     "name": "stdout",
     "output_type": "stream",
     "text": [
      "Skipping unidentifiable image: dataset/train\\dogs\\11702.jpg\n"
     ]
    },
    {
     "name": "stderr",
     "output_type": "stream",
     "text": [
      "Epoch 10/10 [Train]: 100%|██████████████████████████████████████████████████████| 298/298 [00:21<00:00, 14.04it/s, loss=0.747]\n"
     ]
    },
    {
     "name": "stdout",
     "output_type": "stream",
     "text": [
      "Skipping unidentifiable image: dataset/train\\dogs\\11702.jpg\n"
     ]
    },
    {
     "name": "stderr",
     "output_type": "stream",
     "text": [
      "Epoch 10/10 [Val]: 100%|██████████████████████████████████████████████████████| 34/34 [00:03<00:00, 10.91it/s, val_loss=0.658]\n"
     ]
    },
    {
     "name": "stdout",
     "output_type": "stream",
     "text": [
      "Epoch [10/10], Train Loss: 0.6420, Val Loss: 0.6516, Val Accuracy: 61.69%\n"
     ]
    }
   ],
   "source": [
    "NUM_EPOCHS = 10\n",
    "train_losses = []\n",
    "val_losses = []\n",
    "\n",
    "for epoch in range(NUM_EPOCHS):\n",
    "    model.train()\n",
    "    running_loss = 0.0\n",
    "    # Use tqdm for batch progress\n",
    "    train_bar = tqdm(train_loader, desc=f'Epoch {epoch+1}/{NUM_EPOCHS} [Train]')\n",
    "    for batch in train_bar:\n",
    "        if batch is None:  # Skip empty batches\n",
    "            continue\n",
    "        images, labels = batch\n",
    "        images, labels = images, labels.float().view(-1, 1)\n",
    "        \n",
    "        # Zero gradients\n",
    "        optimizer.zero_grad()\n",
    "        \n",
    "        # Forward pass\n",
    "        outputs = model(images)  # Neuron calculations\n",
    "        loss = criterion(outputs, labels)\n",
    "        \n",
    "        # Backward pass and optimization\n",
    "        loss.backward()  # Gradient calculations\n",
    "        optimizer.step()\n",
    "        \n",
    "        running_loss += loss.item()\n",
    "        train_bar.set_postfix({'loss': loss.item()})\n",
    "    \n",
    "    avg_train_loss = running_loss / len([b for b in train_loader if b is not None])\n",
    "    train_losses.append(avg_train_loss)\n",
    "    \n",
    "    # Validation\n",
    "    model.eval()\n",
    "    val_loss = 0.0\n",
    "    correct = 0\n",
    "    total = 0\n",
    "    val_bar = tqdm(validation_loader, desc=f'Epoch {epoch+1}/{NUM_EPOCHS} [Val]')\n",
    "    with torch.no_grad():\n",
    "        for batch in val_bar:\n",
    "            if batch is None:\n",
    "                continue\n",
    "            images, labels = batch\n",
    "            images, labels = images, labels.float().view(-1, 1)\n",
    "            outputs = model(images)\n",
    "            val_loss += criterion(outputs, labels).item()\n",
    "            predicted = (outputs >= 0.5).float()\n",
    "            total += labels.size(0)\n",
    "            correct += (predicted == labels).sum().item()\n",
    "            val_bar.set_postfix({'val_loss': val_loss / (total / BATCH_SIZE)})\n",
    "    \n",
    "    avg_val_loss = val_loss / len([b for b in validation_loader if b is not None])\n",
    "    val_losses.append(avg_val_loss)\n",
    "    \n",
    "    print(f'Epoch [{epoch+1}/{NUM_EPOCHS}], '\n",
    "          f'Train Loss: {avg_train_loss:.4f}, '\n",
    "          f'Val Loss: {avg_val_loss:.4f}, '\n",
    "          f'Val Accuracy: {100 * correct/total:.2f}%')\n"
   ]
  },
  {
   "cell_type": "code",
   "execution_count": 7,
   "id": "e2eeb2c4-17c8-4782-952f-543b78475ce7",
   "metadata": {},
   "outputs": [
    {
     "data": {
      "image/png": "[encoded data removed]",
      "text/plain": [
       "<Figure size 800x600 with 1 Axes>"
      ]
     },
     "metadata": {},
     "output_type": "display_data"
    }
   ],
   "source": [
    "plt.figure(figsize=(8, 6))\n",
    "plt.plot(range(1, NUM_EPOCHS+1), train_losses, label='Training Loss', marker='o')\n",
    "plt.plot(range(1, NUM_EPOCHS+1), val_losses, label='Validation Loss', marker='o')\n",
    "plt.title('Training and Validation Loss')\n",
    "plt.xlabel('Epoch')\n",
    "plt.ylabel('Loss')\n",
    "plt.legend()\n",
    "plt.grid(True)\n",
    "plt.savefig('loss_plot.png')"
   ]
  },
  {
   "cell_type": "code",
   "execution_count": 8,
   "id": "a9a34c55-6144-4779-a331-d54805c9d20c",
   "metadata": {},
   "outputs": [],
   "source": [
    "torch.save(model.state_dict(), 'cats_dogs_mlp.pth')"
   ]
  },
  {
   "cell_type": "code",
   "execution_count": 9,
   "id": "b4d89754-ebe0-47ee-b9bd-2493149d88ff",
   "metadata": {},
   "outputs": [
    {
     "name": "stdout",
     "output_type": "stream",
     "text": [
      "Predicted: Dog, Probability: 0.7150\n"
     ]
    }
   ],
   "source": [
    "def predict_image(image_path, model, transform):\n",
    "    from PIL import Image\n",
    "    try:\n",
    "        model.eval()\n",
    "        image = Image.open(image_path).convert('L')\n",
    "        image = transform(image).unsqueeze(0)\n",
    "        with torch.no_grad():\n",
    "            output = model(image)\n",
    "            label = 'Dog' if output.item() >= 0.5 else 'Cat'\n",
    "            return label, output.item()\n",
    "    except UnidentifiedImageError:\n",
    "        print(f\"Cannot identify image: {image_path}\")\n",
    "        return None, None\n",
    "\n",
    "# Example inference (replace 'sample_image.jpg' with your image path)\n",
    "sample_image_path = 'dog.jpg'\n",
    "label, prob = predict_image(sample_image_path, model, transform)\n",
    "if label is not None:\n",
    "    print(f\"Predicted: {label}, Probability: {prob:.4f}\")"
   ]
  },
  {
   "cell_type": "code",
   "execution_count": null,
   "id": "3723b5d5-61db-47fd-8d42-09c1353669ba",
   "metadata": {},
   "outputs": [],
   "source": []
  }
 ],
 "metadata": {
  "kernelspec": {
   "display_name": "Python 3 (ipykernel)",
   "language": "python",
   "name": "python3"
  },
  "language_info": {
   "codemirror_mode": {
    "name": "ipython",
    "version": 3
   },
   "file_extension": ".py",
   "mimetype": "text/x-python",
   "name": "python",
   "nbconvert_exporter": "python",
   "pygments_lexer": "ipython3",
   "version": "3.12.6"
  }
 },
 "nbformat": 4,
 "nbformat_minor": 5
}
