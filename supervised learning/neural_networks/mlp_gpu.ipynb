{
  "cells": [
    {
      "cell_type": "code",
      "execution_count": 1,
      "id": "M5vj6WZqoomE",
      "metadata": {
        "colab": {
          "base_uri": "https://localhost:8080/"
        },
        "id": "M5vj6WZqoomE",
        "outputId": "952ac850-87d1-41fd-adb2-908dc6893cf7"
      },
      "outputs": [
        {
          "name": "stdout",
          "output_type": "stream",
          "text": [
            "Drive already mounted at /content/drive; to attempt to forcibly remount, call drive.mount(\"/content/drive\", force_remount=True).\n"
          ]
        }
      ],
      "source": [
        "from google.colab import drive\n",
        "drive.mount('/content/drive')"
      ]
    },
    {
      "cell_type": "code",
      "execution_count": 2,
      "id": "00769b24-8349-4754-881a-b91f3284d168",
      "metadata": {
        "id": "00769b24-8349-4754-881a-b91f3284d168"
      },
      "outputs": [],
      "source": [
        "import torch\n",
        "import torch.nn as nn\n",
        "import torch.optim as optim\n",
        "import torchvision\n",
        "import torchvision.transforms as transforms\n",
        "from torch.utils.data import DataLoader, Dataset\n",
        "from torchvision.datasets import ImageFolder\n",
        "from PIL import Image, UnidentifiedImageError\n",
        "import os\n",
        "import numpy as np\n",
        "import matplotlib.pyplot as plt\n",
        "from tqdm import tqdm"
      ]
    },
    {
      "cell_type": "code",
      "execution_count": 3,
      "id": "iH_U8iYDzsk0",
      "metadata": {
        "colab": {
          "base_uri": "https://localhost:8080/"
        },
        "id": "iH_U8iYDzsk0",
        "outputId": "4bbd6030-64f5-4738-a35c-67de8d34d9a3"
      },
      "outputs": [
        {
          "name": "stdout",
          "output_type": "stream",
          "text": [
            "Using device: cuda\n"
          ]
        }
      ],
      "source": [
        "# Set device\n",
        "device = torch.device(\"cuda\" if torch.cuda.is_available() else \"cpu\")\n",
        "print(\"Using device:\", device)"
      ]
    },
    {
      "cell_type": "code",
      "execution_count": null,
      "id": "b3778040-72cf-4d58-87a2-c3382dac0803",
      "metadata": {
        "colab": {
          "base_uri": "https://localhost:8080/"
        },
        "id": "b3778040-72cf-4d58-87a2-c3382dac0803",
        "outputId": "863b8b94-c76d-4959-d1b7-f70b3a2be76c"
      },
      "outputs": [
        {
          "name": "stdout",
          "output_type": "stream",
          "text": [
            "cp: cannot create symbolic link '/content/dataset/dataset': Read-only file system\n"
          ]
        }
      ],
      "source": [
        "# Set random seed for reproducibility\n",
        "torch.manual_seed(42)\n",
        "\n",
        "# Copy dataset from Google Drive to Colab local storage for faster access\n",
        "!cp -r \"/content/drive/MyDrive/dataset\" \"/content/dataset\"\n",
        "\n",
        "# Define paths for training and validation datasets\n",
        "train_dir = '/content/dataset/train'\n",
        "validation_dir = '/content/dataset/validation'\n",
        "\n",
        "# Define image transformations to preprocess the data\n",
        "IMG_SIZE = (64, 64)  # Resize images to 64x64\n",
        "transform = transforms.Compose([\n",
        "    transforms.Resize(IMG_SIZE),  # Resize images\n",
        "    transforms.Grayscale(num_output_channels=1),  # Convert images to grayscale\n",
        "    transforms.ToTensor(),  # Convert images to PyTorch tensors\n",
        "])\n",
        "\n",
        "# Custom dataset class to handle and skip bad images\n",
        "class SafeImageFolder(ImageFolder):\n",
        "    def __getitem__(self, index):\n",
        "        try:\n",
        "            # Attempt to load the image and its label\n",
        "            return super(SafeImageFolder, self).__getitem__(index)\n",
        "        except UnidentifiedImageError:\n",
        "            # Handle bad images by skipping them\n",
        "            print(f\"Skipping: {self.samples[index][0]}\")\n",
        "            return None\n",
        "\n",
        "# Custom collate function to remove None entries from batches\n",
        "def safe_collate(batch):\n",
        "    # Filter out None entries from the batch\n",
        "    batch = [item for item in batch if item is not None]\n",
        "    if len(batch) == 0:\n",
        "        # Return None if the batch is empty after filtering\n",
        "        return None\n",
        "    # Use the default PyTorch collate function for valid batches\n",
        "    return torch.utils.data.dataloader.default_collate(batch)"
      ]
    },
    {
      "cell_type": "code",
      "execution_count": null,
      "id": "ba726d92-7da2-41b9-910e-bc6ba827521c",
      "metadata": {
        "id": "ba726d92-7da2-41b9-910e-bc6ba827521c"
      },
      "outputs": [],
      "source": [
        "# Load training dataset using the custom SafeImageFolder class and apply transformations\n",
        "train_dataset = SafeImageFolder(train_dir, transform=transform)\n",
        "\n",
        "# Load validation dataset using the custom SafeImageFolder class and apply transformations\n",
        "validation_dataset = SafeImageFolder(validation_dir, transform=transform)\n",
        "\n",
        "# Define batch size for data loading\n",
        "BATCH_SIZE = 32\n",
        "\n",
        "# Create DataLoader for the training dataset with shuffling and custom collate function\n",
        "train_loader = DataLoader(train_dataset, batch_size=BATCH_SIZE, shuffle=True, collate_fn=safe_collate)\n",
        "\n",
        "# Create DataLoader for the validation dataset without shuffling and with custom collate function\n",
        "validation_loader = DataLoader(validation_dataset, batch_size=BATCH_SIZE, shuffle=False, collate_fn=safe_collate)"
      ]
    },
    {
      "cell_type": "code",
      "execution_count": null,
      "id": "6d90322f-e906-4e91-adf3-17e12ae9ca37",
      "metadata": {
        "id": "6d90322f-e906-4e91-adf3-17e12ae9ca37"
      },
      "outputs": [],
      "source": [
        "# MLP Model\n",
        "class CatsDogsMLP(nn.Module):\n",
        "    def __init__(self):\n",
        "        super(CatsDogsMLP, self).__init__()\n",
        "        # Flatten layer to convert 2D image input into 1D vector\n",
        "        self.flatten = nn.Flatten()  # Flatten 64x64x1 to 4096\n",
        "        \n",
        "        self.layer1 = nn.Linear(64 * 64, 512) # Hidden layer 1: 4096 -> 512\n",
        "        self.relu1 = nn.ReLU()  # Activation function (ReLU) for the first layer\n",
        "        \n",
        "        self.layer2 = nn.Linear(512, 256) # Hidden layer 2: 512 -> 256\n",
        "        self.relu2 = nn.ReLU()  # Activation function (ReLU) for the second layer\n",
        "        \n",
        "        self.layer3 = nn.Linear(256, 128) # Hidden layer 3: 256 -> 128\n",
        "        self.relu3 = nn.ReLU()  # Activation function (ReLU) for the third layer\n",
        "        \n",
        "        self.output = nn.Linear(128, 1)  # Output layer: 128 -> 1\n",
        "        self.sigmoid = nn.Sigmoid()  # Activation function (Sigmoid) for binary output\n",
        "\n",
        "    def forward(self, x):\n",
        "        # Forward pass through the network\n",
        "        x = self.flatten(x)  # Flatten the input\n",
        "        x = self.relu1(self.layer1(x))  # First layer + activation\n",
        "        x = self.relu2(self.layer2(x))  # Second layer + activation\n",
        "        x = self.relu3(self.layer3(x))  # Third layer + activation\n",
        "        x = self.sigmoid(self.output(x))  # Output layer + activation\n",
        "        return x"
      ]
    },
    {
      "cell_type": "code",
      "execution_count": null,
      "id": "cba7e8c6-43dc-4806-97a7-46c8371973e0",
      "metadata": {
        "id": "cba7e8c6-43dc-4806-97a7-46c8371973e0"
      },
      "outputs": [],
      "source": [
        "# Instantiate the model and move it to the appropriate device (CPU or GPU)\n",
        "model = CatsDogsMLP().to(device)\n",
        "\n",
        "# Define the loss function (Binary Cross-Entropy Loss) for binary classification\n",
        "criterion = nn.BCELoss()\n",
        "\n",
        "# Define the optimizer (Adam optimizer) with a learning rate of 0.001\n",
        "optimizer = optim.Adam(model.parameters(), lr=0.001)"
      ]
    },
    {
      "cell_type": "code",
      "execution_count": null,
      "id": "3d602a7d-8b19-4f8e-a9ed-76ad1738a1b8",
      "metadata": {
        "colab": {
          "base_uri": "https://localhost:8080/"
        },
        "id": "3d602a7d-8b19-4f8e-a9ed-76ad1738a1b8",
        "outputId": "81f0ddb7-b149-4e13-973d-267f1615e299"
      },
      "outputs": [
        {
          "name": "stderr",
          "output_type": "stream",
          "text": [
            "Epoch 1/10 [Train]:  49%|████▉     | 146/298 [00:56<00:23,  6.39it/s, loss=0.7]"
          ]
        },
        {
          "name": "stdout",
          "output_type": "stream",
          "text": [
            "Skipping: /content/dataset/train/dogs/11702.jpg\n"
          ]
        },
        {
          "name": "stderr",
          "output_type": "stream",
          "text": [
            "Epoch 1/10 [Train]:  86%|████████▌ | 255/298 [01:15<00:08,  5.37it/s, loss=0.693]/usr/local/lib/python3.11/dist-packages/PIL/TiffImagePlugin.py:950: UserWarning: Truncated File Read\n",
            "  warnings.warn(str(msg))\n",
            "Epoch 1/10 [Train]: 100%|██████████| 298/298 [01:22<00:00,  3.62it/s, loss=0.687]\n"
          ]
        },
        {
          "name": "stdout",
          "output_type": "stream",
          "text": [
            "Skipping: /content/dataset/train/dogs/11702.jpg\n"
          ]
        },
        {
          "name": "stderr",
          "output_type": "stream",
          "text": [
            "Epoch 1/10 [Val]: 100%|██████████| 34/34 [00:45<00:00,  1.32s/it, val_loss=0.692]\n"
          ]
        },
        {
          "name": "stdout",
          "output_type": "stream",
          "text": [
            "Epoch [1/10], Train Loss: 0.6859, Val Loss: 0.6853, Val Accuracy: 56.59%\n"
          ]
        },
        {
          "name": "stderr",
          "output_type": "stream",
          "text": [
            "Epoch 2/10 [Train]:  33%|███▎      | 98/298 [00:15<00:30,  6.49it/s, loss=0.622]"
          ]
        },
        {
          "name": "stdout",
          "output_type": "stream",
          "text": [
            "Skipping: /content/dataset/train/dogs/11702.jpg\n"
          ]
        },
        {
          "name": "stderr",
          "output_type": "stream",
          "text": [
            "Epoch 2/10 [Train]: 100%|██████████| 298/298 [00:46<00:00,  6.42it/s, loss=0.657]\n"
          ]
        },
        {
          "name": "stdout",
          "output_type": "stream",
          "text": [
            "Skipping: /content/dataset/train/dogs/11702.jpg\n"
          ]
        },
        {
          "name": "stderr",
          "output_type": "stream",
          "text": [
            "Epoch 2/10 [Val]: 100%|██████████| 34/34 [00:05<00:00,  6.28it/s, val_loss=0.685]\n"
          ]
        },
        {
          "name": "stdout",
          "output_type": "stream",
          "text": [
            "Epoch [2/10], Train Loss: 0.6712, Val Loss: 0.6786, Val Accuracy: 56.40%\n"
          ]
        },
        {
          "name": "stderr",
          "output_type": "stream",
          "text": [
            "Epoch 3/10 [Train]:   8%|▊         | 23/298 [00:03<00:45,  6.06it/s, loss=0.681]"
          ]
        },
        {
          "name": "stdout",
          "output_type": "stream",
          "text": [
            "Skipping: /content/dataset/train/dogs/11702.jpg\n"
          ]
        },
        {
          "name": "stderr",
          "output_type": "stream",
          "text": [
            "Epoch 3/10 [Train]: 100%|██████████| 298/298 [00:46<00:00,  6.40it/s, loss=0.69]\n"
          ]
        },
        {
          "name": "stdout",
          "output_type": "stream",
          "text": [
            "Skipping: /content/dataset/train/dogs/11702.jpg\n"
          ]
        },
        {
          "name": "stderr",
          "output_type": "stream",
          "text": [
            "Epoch 3/10 [Val]: 100%|██████████| 34/34 [00:04<00:00,  6.91it/s, val_loss=0.672]\n"
          ]
        },
        {
          "name": "stdout",
          "output_type": "stream",
          "text": [
            "Epoch [3/10], Train Loss: 0.6610, Val Loss: 0.6654, Val Accuracy: 58.81%\n"
          ]
        },
        {
          "name": "stderr",
          "output_type": "stream",
          "text": [
            "Epoch 4/10 [Train]:  50%|█████     | 150/298 [00:23<00:27,  5.48it/s, loss=0.697]"
          ]
        },
        {
          "name": "stdout",
          "output_type": "stream",
          "text": [
            "Skipping: /content/dataset/train/dogs/11702.jpg\n"
          ]
        },
        {
          "name": "stderr",
          "output_type": "stream",
          "text": [
            "Epoch 4/10 [Train]: 100%|██████████| 298/298 [00:46<00:00,  6.46it/s, loss=0.687]\n"
          ]
        },
        {
          "name": "stdout",
          "output_type": "stream",
          "text": [
            "Skipping: /content/dataset/train/dogs/11702.jpg\n"
          ]
        },
        {
          "name": "stderr",
          "output_type": "stream",
          "text": [
            "Epoch 4/10 [Val]: 100%|██████████| 34/34 [00:04<00:00,  6.93it/s, val_loss=0.692]\n"
          ]
        },
        {
          "name": "stdout",
          "output_type": "stream",
          "text": [
            "Epoch [4/10], Train Loss: 0.6575, Val Loss: 0.6852, Val Accuracy: 56.68%\n"
          ]
        },
        {
          "name": "stderr",
          "output_type": "stream",
          "text": [
            "Epoch 5/10 [Train]:  90%|████████▉ | 267/298 [00:41<00:05,  5.41it/s, loss=0.716]"
          ]
        },
        {
          "name": "stdout",
          "output_type": "stream",
          "text": [
            "Skipping: /content/dataset/train/dogs/11702.jpg\n"
          ]
        },
        {
          "name": "stderr",
          "output_type": "stream",
          "text": [
            "Epoch 5/10 [Train]: 100%|██████████| 298/298 [00:46<00:00,  6.42it/s, loss=0.602]\n"
          ]
        },
        {
          "name": "stdout",
          "output_type": "stream",
          "text": [
            "Skipping: /content/dataset/train/dogs/11702.jpg\n"
          ]
        },
        {
          "name": "stderr",
          "output_type": "stream",
          "text": [
            "Epoch 5/10 [Val]: 100%|██████████| 34/34 [00:05<00:00,  6.19it/s, val_loss=0.67]\n"
          ]
        },
        {
          "name": "stdout",
          "output_type": "stream",
          "text": [
            "Epoch [5/10], Train Loss: 0.6565, Val Loss: 0.6636, Val Accuracy: 58.81%\n"
          ]
        },
        {
          "name": "stderr",
          "output_type": "stream",
          "text": [
            "Epoch 6/10 [Train]:   1%|▏         | 4/298 [00:00<00:43,  6.79it/s, loss=0.641]"
          ]
        },
        {
          "name": "stdout",
          "output_type": "stream",
          "text": [
            "Skipping: /content/dataset/train/dogs/11702.jpg\n"
          ]
        },
        {
          "name": "stderr",
          "output_type": "stream",
          "text": [
            "Epoch 6/10 [Train]: 100%|██████████| 298/298 [00:47<00:00,  6.32it/s, loss=0.648]\n"
          ]
        },
        {
          "name": "stdout",
          "output_type": "stream",
          "text": [
            "Skipping: /content/dataset/train/dogs/11702.jpg\n"
          ]
        },
        {
          "name": "stderr",
          "output_type": "stream",
          "text": [
            "Epoch 6/10 [Val]: 100%|██████████| 34/34 [00:04<00:00,  6.82it/s, val_loss=0.658]\n"
          ]
        },
        {
          "name": "stdout",
          "output_type": "stream",
          "text": [
            "Epoch [6/10], Train Loss: 0.6488, Val Loss: 0.6517, Val Accuracy: 62.62%\n"
          ]
        },
        {
          "name": "stderr",
          "output_type": "stream",
          "text": [
            "Epoch 7/10 [Train]:  76%|███████▌  | 227/298 [00:34<00:13,  5.46it/s, loss=0.734]"
          ]
        },
        {
          "name": "stdout",
          "output_type": "stream",
          "text": [
            "Skipping: /content/dataset/train/dogs/11702.jpg\n"
          ]
        },
        {
          "name": "stderr",
          "output_type": "stream",
          "text": [
            "Epoch 7/10 [Train]: 100%|██████████| 298/298 [00:45<00:00,  6.54it/s, loss=0.671]\n"
          ]
        },
        {
          "name": "stdout",
          "output_type": "stream",
          "text": [
            "Skipping: /content/dataset/train/dogs/11702.jpg\n"
          ]
        },
        {
          "name": "stderr",
          "output_type": "stream",
          "text": [
            "Epoch 7/10 [Val]: 100%|██████████| 34/34 [00:04<00:00,  7.01it/s, val_loss=0.661]\n"
          ]
        },
        {
          "name": "stdout",
          "output_type": "stream",
          "text": [
            "Epoch [7/10], Train Loss: 0.6466, Val Loss: 0.6553, Val Accuracy: 62.62%\n"
          ]
        },
        {
          "name": "stderr",
          "output_type": "stream",
          "text": [
            "Epoch 8/10 [Train]:  38%|███▊      | 113/298 [00:17<00:26,  6.92it/s, loss=0.68]"
          ]
        },
        {
          "name": "stdout",
          "output_type": "stream",
          "text": [
            "Skipping: /content/dataset/train/dogs/11702.jpg\n"
          ]
        },
        {
          "name": "stderr",
          "output_type": "stream",
          "text": [
            "Epoch 8/10 [Train]: 100%|██████████| 298/298 [00:46<00:00,  6.44it/s, loss=0.644]\n"
          ]
        },
        {
          "name": "stdout",
          "output_type": "stream",
          "text": [
            "Skipping: /content/dataset/train/dogs/11702.jpg\n"
          ]
        },
        {
          "name": "stderr",
          "output_type": "stream",
          "text": [
            "Epoch 8/10 [Val]: 100%|██████████| 34/34 [00:05<00:00,  6.25it/s, val_loss=0.658]\n"
          ]
        },
        {
          "name": "stdout",
          "output_type": "stream",
          "text": [
            "Epoch [8/10], Train Loss: 0.6467, Val Loss: 0.6520, Val Accuracy: 61.41%\n"
          ]
        },
        {
          "name": "stderr",
          "output_type": "stream",
          "text": [
            "Epoch 9/10 [Train]:  54%|█████▍    | 162/298 [00:25<00:19,  7.06it/s, loss=0.668]"
          ]
        },
        {
          "name": "stdout",
          "output_type": "stream",
          "text": [
            "Skipping: /content/dataset/train/dogs/11702.jpg\n"
          ]
        },
        {
          "name": "stderr",
          "output_type": "stream",
          "text": [
            "Epoch 9/10 [Train]: 100%|██████████| 298/298 [00:46<00:00,  6.39it/s, loss=0.591]\n"
          ]
        },
        {
          "name": "stdout",
          "output_type": "stream",
          "text": [
            "Skipping: /content/dataset/train/dogs/11702.jpg\n"
          ]
        },
        {
          "name": "stderr",
          "output_type": "stream",
          "text": [
            "Epoch 9/10 [Val]: 100%|██████████| 34/34 [00:04<00:00,  7.09it/s, val_loss=0.69]\n"
          ]
        },
        {
          "name": "stdout",
          "output_type": "stream",
          "text": [
            "Epoch [9/10], Train Loss: 0.6408, Val Loss: 0.6833, Val Accuracy: 56.31%\n"
          ]
        },
        {
          "name": "stderr",
          "output_type": "stream",
          "text": [
            "Epoch 10/10 [Train]:  94%|█████████▎| 279/298 [00:43<00:02,  6.86it/s, loss=0.602]"
          ]
        },
        {
          "name": "stdout",
          "output_type": "stream",
          "text": [
            "Skipping: /content/dataset/train/dogs/11702.jpg\n"
          ]
        },
        {
          "name": "stderr",
          "output_type": "stream",
          "text": [
            "Epoch 10/10 [Train]: 100%|██████████| 298/298 [00:45<00:00,  6.48it/s, loss=0.663]\n"
          ]
        },
        {
          "name": "stdout",
          "output_type": "stream",
          "text": [
            "Skipping: /content/dataset/train/dogs/11702.jpg\n"
          ]
        },
        {
          "name": "stderr",
          "output_type": "stream",
          "text": [
            "Epoch 10/10 [Val]: 100%|██████████| 34/34 [00:05<00:00,  6.28it/s, val_loss=0.66]\n"
          ]
        },
        {
          "name": "stdout",
          "output_type": "stream",
          "text": [
            "Epoch [10/10], Train Loss: 0.6387, Val Loss: 0.6543, Val Accuracy: 63.08%\n"
          ]
        }
      ],
      "source": [
        "# Training loop\n",
        "NUM_EPOCHS = 10  # Number of epochs to train the model\n",
        "train_losses = []  # List to store training losses for each epoch\n",
        "val_losses = []  # List to store validation losses for each epoch\n",
        "\n",
        "for epoch in range(NUM_EPOCHS):\n",
        "    # Set the model to training mode\n",
        "    model.train()\n",
        "    running_loss = 0.0  # Accumulate training loss for the current epoch\n",
        "    train_bar = tqdm(train_loader, desc=f'Epoch {epoch+1}/{NUM_EPOCHS} [Train]')  # Progress bar for training\n",
        "\n",
        "    for batch in train_bar:\n",
        "        if batch is None:  # Skip invalid batches\n",
        "            continue\n",
        "        images, labels = batch  # Unpack images and labels from the batch\n",
        "        images = images.to(device)  # Move images to the device (CPU/GPU)\n",
        "        labels = labels.float().view(-1, 1).to(device)  # Move labels to the device and reshape\n",
        "\n",
        "        optimizer.zero_grad()  # Zero the gradients\n",
        "        outputs = model(images)  # Forward pass\n",
        "        loss = criterion(outputs, labels)  # Compute the loss\n",
        "        loss.backward()  # Backward pass\n",
        "        optimizer.step()  # Update model parameters\n",
        "\n",
        "        running_loss += loss.item()  # Accumulate the loss\n",
        "        train_bar.set_postfix({'loss': loss.item()})  # Update progress bar with the current loss\n",
        "\n",
        "    # Compute average training loss for the epoch\n",
        "    avg_train_loss = running_loss / len([b for b in train_loader if b is not None])\n",
        "    train_losses.append(avg_train_loss)  # Append to training losses list\n",
        "\n",
        "    # Validation phase\n",
        "    model.eval()  # Set the model to evaluation mode\n",
        "    val_loss = 0.0  # Accumulate validation loss for the current epoch\n",
        "    correct = 0  # Count of correct predictions\n",
        "    total = 0  # Total number of samples\n",
        "    val_bar = tqdm(validation_loader, desc=f'Epoch {epoch+1}/{NUM_EPOCHS} [Val]')  # Progress bar for validation\n",
        "\n",
        "    with torch.no_grad():  # Disable gradient computation for validation\n",
        "        for batch in val_bar:\n",
        "            if batch is None:  # Skip invalid batches\n",
        "                continue\n",
        "            images, labels = batch  # Unpack images and labels from the batch\n",
        "            images = images.to(device)  # Move images to the device\n",
        "            labels = labels.float().view(-1, 1).to(device)  # Move labels to the device and reshape\n",
        "            outputs = model(images)  # Forward pass\n",
        "            val_loss += criterion(outputs, labels).item()  # Compute and accumulate validation loss\n",
        "            predicted = (outputs >= 0.5).float()  # Convert outputs to binary predictions\n",
        "            total += labels.size(0)  # Update total number of samples\n",
        "            correct += (predicted == labels).sum().item()  # Count correct predictions\n",
        "            val_bar.set_postfix({'val_loss': val_loss / (total / BATCH_SIZE)})  # Update progress bar with validation loss\n",
        "\n",
        "    # Compute average validation loss for the epoch\n",
        "    avg_val_loss = val_loss / len([b for b in validation_loader if b is not None])\n",
        "    val_losses.append(avg_val_loss)  # Append to validation losses list\n",
        "\n",
        "    # Print epoch summary\n",
        "    print(f'Epoch [{epoch+1}/{NUM_EPOCHS}], Train Loss: {avg_train_loss:.4f}, Val Loss: {avg_val_loss:.4f}, Val Accuracy: {100 * correct / total:.2f}%')\n"
      ]
    },
    {
      "cell_type": "code",
      "execution_count": 9,
      "id": "e2eeb2c4-17c8-4782-952f-543b78475ce7",
      "metadata": {
        "colab": {
          "base_uri": "https://localhost:8080/",
          "height": 564
        },
        "id": "e2eeb2c4-17c8-4782-952f-543b78475ce7",
        "outputId": "51812e7d-4948-47d6-c576-c6b33fcada37"
      },
      "outputs": [
        {
          "data": {
            "image/png": "[encoded data removed]",
            "text/plain": [
              "<Figure size 800x600 with 1 Axes>"
            ]
          },
          "metadata": {},
          "output_type": "display_data"
        }
      ],
      "source": [
        "# Plot losses\n",
        "plt.figure(figsize=(8, 6))\n",
        "plt.plot(range(1, NUM_EPOCHS+1), train_losses, label='Training Loss', marker='o')\n",
        "plt.plot(range(1, NUM_EPOCHS+1), val_losses, label='Validation Loss', marker='o')\n",
        "plt.title('Training and Validation Loss')\n",
        "plt.xlabel('Epoch')\n",
        "plt.ylabel('Loss')\n",
        "plt.legend()\n",
        "plt.grid(True)\n",
        "plt.savefig('loss_plot.png')"
      ]
    },
    {
      "cell_type": "code",
      "execution_count": 10,
      "id": "a9a34c55-6144-4779-a331-d54805c9d20c",
      "metadata": {
        "id": "a9a34c55-6144-4779-a331-d54805c9d20c"
      },
      "outputs": [],
      "source": [
        "# Save model\n",
        "torch.save(model.state_dict(), 'cats_dogs_mlp.pth')"
      ]
    },
    {
      "cell_type": "code",
      "execution_count": 12,
      "id": "Y5us9WI9-crT",
      "metadata": {
        "colab": {
          "base_uri": "https://localhost:8080/",
          "height": 17
        },
        "id": "Y5us9WI9-crT",
        "outputId": "ca6041ad-004f-4be8-e1cb-171083fa2cb5"
      },
      "outputs": [
        {
          "data": {
            "application/javascript": "\n    async function download(id, filename, size) {\n      if (!google.colab.kernel.accessAllowed) {\n        return;\n      }\n      const div = document.createElement('div');\n      const label = document.createElement('label');\n      label.textContent = `Downloading \"${filename}\": `;\n      div.appendChild(label);\n      const progress = document.createElement('progress');\n      progress.max = size;\n      div.appendChild(progress);\n      document.body.appendChild(div);\n\n      const buffers = [];\n      let downloaded = 0;\n\n      const channel = await google.colab.kernel.comms.open(id);\n      // Send a message to notify the kernel that we're ready.\n      channel.send({})\n\n      for await (const message of channel.messages) {\n        // Send a message to notify the kernel that we're ready.\n        channel.send({})\n        if (message.buffers) {\n          for (const buffer of message.buffers) {\n            buffers.push(buffer);\n            downloaded += buffer.byteLength;\n            progress.value = downloaded;\n          }\n        }\n      }\n      const blob = new Blob(buffers, {type: 'application/binary'});\n      const a = document.createElement('a');\n      a.href = window.URL.createObjectURL(blob);\n      a.download = filename;\n      div.appendChild(a);\n      a.click();\n      div.remove();\n    }\n  ",
            "text/plain": [
              "<IPython.core.display.Javascript object>"
            ]
          },
          "metadata": {},
          "output_type": "display_data"
        },
        {
          "data": {
            "application/javascript": "download(\"download_bdbbf704-fbad-48ff-93aa-cd3fbb2ad0d0\", \"cats_dogs_mlp.pth\", 9051464)",
            "text/plain": [
              "<IPython.core.display.Javascript object>"
            ]
          },
          "metadata": {},
          "output_type": "display_data"
        }
      ],
      "source": [
        "from google.colab import files\n",
        "files.download('cats_dogs_mlp.pth')"
      ]
    },
    {
      "cell_type": "code",
      "execution_count": 16,
      "id": "b4d89754-ebe0-47ee-b9bd-2493149d88ff",
      "metadata": {
        "colab": {
          "base_uri": "https://localhost:8080/"
        },
        "id": "b4d89754-ebe0-47ee-b9bd-2493149d88ff",
        "outputId": "3ce9cafa-2367-42f3-b0ea-7f7d8d80723d"
      },
      "outputs": [
        {
          "name": "stdout",
          "output_type": "stream",
          "text": [
            "Predicted: Dog, Probability: 0.6516\n"
          ]
        }
      ],
      "source": [
        "# Inference function\n",
        "def predict_image(image_path, model, transform):\n",
        "    try:\n",
        "        model.eval()\n",
        "        model.to(device)\n",
        "        image = Image.open(image_path).convert('L')\n",
        "        image = transform(image).unsqueeze(0).to(device)\n",
        "        with torch.no_grad():\n",
        "            output = model(image)\n",
        "            label = 'Dog' if output.item() >= 0.5 else 'Cat'\n",
        "            return label, output.item()\n",
        "    except UnidentifiedImageError:\n",
        "        print(f\"Cannot identify image: {image_path}\")\n",
        "        return None, None\n",
        "\n",
        "# Example inference\n",
        "sample_image_path = '/content/drive/MyDrive/dataset/validation/dogs/11961.jpg'\n",
        "label, prob = predict_image(sample_image_path, model, transform)\n",
        "if label is not None:\n",
        "    print(f\"Predicted: {label}, Probability: {prob:.4f}\")"
      ]
    },
    {
      "cell_type": "code",
      "execution_count": null,
      "id": "3723b5d5-61db-47fd-8d42-09c1353669ba",
      "metadata": {
        "id": "3723b5d5-61db-47fd-8d42-09c1353669ba"
      },
      "outputs": [],
      "source": []
    }
  ],
  "metadata": {
    "accelerator": "GPU",
    "colab": {
      "gpuType": "T4",
      "provenance": []
    },
    "kernelspec": {
      "display_name": "Python 3",
      "name": "python3"
    },
    "language_info": {
      "codemirror_mode": {
        "name": "ipython",
        "version": 3
      },
      "file_extension": ".py",
      "mimetype": "text/x-python",
      "name": "python",
      "nbconvert_exporter": "python",
      "pygments_lexer": "ipython3",
      "version": "3.12.6"
    }
  },
  "nbformat": 4,
  "nbformat_minor": 5
}
