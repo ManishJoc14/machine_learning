{
  "cells": [
    {
      "cell_type": "code",
      "execution_count": null,
      "id": "b06eccf4-6eaf-40d0-aaaf-ca494dfdfd20",
      "metadata": {
        "id": "b06eccf4-6eaf-40d0-aaaf-ca494dfdfd20"
      },
      "outputs": [],
      "source": [
        "import torch\n",
        "import torchvision\n",
        "from torchvision.models.detection import fasterrcnn_resnet50_fpn\n",
        "from torchvision.transforms import ToTensor\n",
        "import os\n",
        "import xml.etree.ElementTree as ET\n",
        "from PIL import Image\n",
        "import numpy as np\n",
        "from tqdm import tqdm\n",
        "import matplotlib.pyplot as plt"
      ]
    },
    {
      "cell_type": "code",
      "execution_count": null,
      "id": "A369YNOHlUEK",
      "metadata": {
        "colab": {
          "base_uri": "https://localhost:8080/"
        },
        "id": "A369YNOHlUEK",
        "outputId": "a7cb1c9b-95ad-416c-cc58-7feaab7876b6"
      },
      "outputs": [
        {
          "name": "stdout",
          "output_type": "stream",
          "text": [
            "Mounted at /content/drive\n"
          ]
        }
      ],
      "source": [
        "from google.colab import drive\n",
        "drive.mount('/content/drive')"
      ]
    },
    {
      "cell_type": "code",
      "execution_count": null,
      "id": "8ecc04df-ab1d-4839-abec-7fb5aee90f42",
      "metadata": {
        "id": "8ecc04df-ab1d-4839-abec-7fb5aee90f42"
      },
      "outputs": [],
      "source": [
        "class VOCDataset(torch.utils.data.Dataset):\n",
        "    def __init__(self, images_dir, annotations_dir, transform=None):\n",
        "        # Initialize dataset with image and annotation directories and optional transform\n",
        "        self.images_dir = images_dir\n",
        "        self.annotations_dir = annotations_dir\n",
        "        self.transform = transform\n",
        "        # List all image files in the directory with '.jpg' extension\n",
        "        self.image_files = [f for f in os.listdir(images_dir) if f.endswith('.jpg')]\n",
        "\n",
        "    def __len__(self):\n",
        "        # Return the total number of images in the dataset\n",
        "        return len(self.image_files)\n",
        "\n",
        "    def __getitem__(self, idx):\n",
        "        # Load image\n",
        "        img_name = self.image_files[idx]  # Get the image file name\n",
        "        img_path = os.path.join(self.images_dir, img_name)  # Construct the full image path\n",
        "        img = Image.open(img_path).convert(\"RGB\")  # Open the image and convert to RGB\n",
        "        img_tensor = ToTensor()(img)  # Convert the image to a tensor\n",
        "\n",
        "        # Load annotation\n",
        "        annotation_path = os.path.join(self.annotations_dir, img_name.replace('.jpg', '.xml'))  # Get the corresponding annotation file path\n",
        "        tree = ET.parse(annotation_path)  # Parse the XML annotation file\n",
        "        root = tree.getroot()  # Get the root of the XML tree\n",
        "\n",
        "        boxes = []  # List to store bounding boxes\n",
        "        labels = []  # List to store labels\n",
        "        for obj in root.findall('object'):  # Iterate over all objects in the annotation\n",
        "            name = obj.find('name').text  # Get the object name\n",
        "            if name != 'car':  # Skip objects that are not 'car'\n",
        "                continue\n",
        "            bbox = obj.find('bndbox')  # Get the bounding box\n",
        "            xmin = float(bbox.find('xmin').text)  # Extract xmin\n",
        "            ymin = float(bbox.find('ymin').text)  # Extract ymin\n",
        "            xmax = float(bbox.find('xmax').text)  # Extract xmax\n",
        "            ymax = float(bbox.find('ymax').text)  # Extract ymax\n",
        "            boxes.append([xmin, ymin, xmax, ymax])  # Append the bounding box to the list\n",
        "            labels.append(1)  # Label 1 for 'car' (0 is reserved for background)\n",
        "\n",
        "        # Convert bounding boxes and labels to tensors\n",
        "        boxes = torch.as_tensor(boxes, dtype=torch.float32)\n",
        "        labels = torch.as_tensor(labels, dtype=torch.int64)\n",
        "\n",
        "        # Create the target dictionary\n",
        "        target = {\n",
        "            \"boxes\": boxes,  # Bounding boxes\n",
        "            \"labels\": labels,  # Labels\n",
        "            \"image_id\": torch.tensor([idx]),  # Image ID\n",
        "            \"area\": (boxes[:, 3] - boxes[:, 1]) * (boxes[:, 2] - boxes[:, 0]),  # Area of each bounding box\n",
        "            \"iscrowd\": torch.zeros((len(labels),), dtype=torch.int64)  # Crowd flag (0 for no crowd)\n",
        "        }\n",
        "\n",
        "        # Apply optional transform to the image tensor\n",
        "        if self.transform:\n",
        "            img_tensor = self.transform(img_tensor)\n",
        "\n",
        "        # Return the image tensor and the target dictionary\n",
        "        return img_tensor, target"
      ]
    },
    {
      "cell_type": "code",
      "execution_count": null,
      "id": "9f5c1bba-b283-455d-8cf3-19014e72f4e0",
      "metadata": {
        "colab": {
          "base_uri": "https://localhost:8080/"
        },
        "id": "9f5c1bba-b283-455d-8cf3-19014e72f4e0",
        "outputId": "eef98ab5-f6dc-4733-f59d-271b6a267753"
      },
      "outputs": [
        {
          "name": "stderr",
          "output_type": "stream",
          "text": [
            "/usr/local/lib/python3.11/dist-packages/torchvision/models/_utils.py:208: UserWarning: The parameter 'pretrained' is deprecated since 0.13 and may be removed in the future, please use 'weights' instead.\n",
            "  warnings.warn(\n",
            "/usr/local/lib/python3.11/dist-packages/torchvision/models/_utils.py:223: UserWarning: Arguments other than a weight enum or `None` for 'weights' are deprecated since 0.13 and may be removed in the future. The current behavior is equivalent to passing `weights=FasterRCNN_ResNet50_FPN_Weights.COCO_V1`. You can also use `weights=FasterRCNN_ResNet50_FPN_Weights.DEFAULT` to get the most up-to-date weights.\n",
            "  warnings.warn(msg)\n",
            "Downloading: \"https://download.pytorch.org/models/fasterrcnn_resnet50_fpn_coco-258fb6c6.pth\" to /root/.cache/torch/hub/checkpoints/fasterrcnn_resnet50_fpn_coco-258fb6c6.pth\n",
            "100%|██████████| 160M/160M [00:00<00:00, 188MB/s]\n"
          ]
        }
      ],
      "source": [
        "# Define paths for images and annotations\n",
        "images_dir = \"data/training_images\"\n",
        "annotations_dir = \"data/annotations\"\n",
        "\n",
        "# Copy dataset from Google Drive to Colab local storage for faster access\n",
        "!cp -r \"/content/drive/MyDrive/data\" \"/content/data\"\n",
        "\n",
        "# Update paths to point to the copied dataset in Colab local storage\n",
        "images_dir = '/content/data/training_images'\n",
        "annotations_dir = '/content/data/annotations'\n",
        "\n",
        "# Create the dataset using the VOCDataset class\n",
        "dataset = VOCDataset(images_dir, annotations_dir)\n",
        "\n",
        "# Split the dataset into training and validation sets (80% training, 20% validation)\n",
        "train_size = int(0.8 * len(dataset))  # Calculate the size of the training set\n",
        "val_size = len(dataset) - train_size  # Calculate the size of the validation set\n",
        "train_dataset, val_dataset = torch.utils.data.random_split(dataset, [train_size, val_size])  # Perform the split\n",
        "\n",
        "# Create data loaders for training and validation datasets\n",
        "# Use a batch size of 2 and shuffle the training data\n",
        "train_loader = torch.utils.data.DataLoader(\n",
        "    train_dataset, batch_size=2, shuffle=True, collate_fn=lambda x: tuple(zip(*x))\n",
        ")\n",
        "# Validation data loader does not shuffle the data\n",
        "val_loader = torch.utils.data.DataLoader(\n",
        "    val_dataset, batch_size=2, shuffle=False, collate_fn=lambda x: tuple(zip(*x))\n",
        ")\n",
        "\n",
        "# Load a pre-trained Faster R-CNN model with a ResNet-50 backbone\n",
        "model = fasterrcnn_resnet50_fpn(pretrained=True)"
      ]
    },
    {
      "cell_type": "code",
      "execution_count": null,
      "id": "c9989721-327d-4160-8d85-f53125ba2f8c",
      "metadata": {
        "id": "c9989721-327d-4160-8d85-f53125ba2f8c"
      },
      "outputs": [],
      "source": [
        "num_classes = 2  # Define the number of classes: 1 class (car) + background\n",
        "\n",
        "# Get the number of input features for the classifier\n",
        "in_features = model.roi_heads.box_predictor.cls_score.in_features\n",
        "\n",
        "# Replace the pre-trained head with a new one for our specific number of classes\n",
        "model.roi_heads.box_predictor = torchvision.models.detection.faster_rcnn.FastRCNNPredictor(in_features, num_classes)\n",
        "\n",
        "# Move the model to GPU if available, otherwise use CPU\n",
        "device = torch.device(\"cuda\" if torch.cuda.is_available() else \"cpu\")\n",
        "model = model.to(device)\n",
        "\n",
        "# Define the optimizer with parameters that require gradients\n",
        "params = [p for p in model.parameters() if p.requires_grad]\n",
        "optimizer = torch.optim.SGD(params, lr=0.005, momentum=0.9, weight_decay=0.0005)  # Use SGD with specified hyperparameters"
      ]
    },
    {
      "cell_type": "code",
      "execution_count": null,
      "id": "5a3137d3-7188-4da8-a7e6-71fcd8bf23f3",
      "metadata": {
        "colab": {
          "base_uri": "https://localhost:8080/"
        },
        "id": "5a3137d3-7188-4da8-a7e6-71fcd8bf23f3",
        "outputId": "401192be-62f2-4902-a75e-b01a09f1a332"
      },
      "outputs": [
        {
          "name": "stderr",
          "output_type": "stream",
          "text": [
            "Epoch 1/10 (Training): 100%|██████████| 142/142 [04:13<00:00,  1.78s/it]\n"
          ]
        },
        {
          "name": "stdout",
          "output_type": "stream",
          "text": [
            "Epoch 1/10, Average Training Loss: 0.1582\n"
          ]
        },
        {
          "name": "stderr",
          "output_type": "stream",
          "text": [
            "Epoch 1/10 (Validation): 100%|██████████| 36/36 [00:48<00:00,  1.35s/it]\n"
          ]
        },
        {
          "name": "stdout",
          "output_type": "stream",
          "text": [
            "Epoch 1/10, Average Validation Loss: 0.1260\n"
          ]
        },
        {
          "name": "stderr",
          "output_type": "stream",
          "text": [
            "Epoch 2/10 (Training): 100%|██████████| 142/142 [01:24<00:00,  1.68it/s]\n"
          ]
        },
        {
          "name": "stdout",
          "output_type": "stream",
          "text": [
            "Epoch 2/10, Average Training Loss: 0.1037\n"
          ]
        },
        {
          "name": "stderr",
          "output_type": "stream",
          "text": [
            "Epoch 2/10 (Validation): 100%|██████████| 36/36 [00:10<00:00,  3.56it/s]\n"
          ]
        },
        {
          "name": "stdout",
          "output_type": "stream",
          "text": [
            "Epoch 2/10, Average Validation Loss: 0.1157\n"
          ]
        },
        {
          "name": "stderr",
          "output_type": "stream",
          "text": [
            "Epoch 3/10 (Training): 100%|██████████| 142/142 [01:24<00:00,  1.68it/s]\n"
          ]
        },
        {
          "name": "stdout",
          "output_type": "stream",
          "text": [
            "Epoch 3/10, Average Training Loss: 0.0885\n"
          ]
        },
        {
          "name": "stderr",
          "output_type": "stream",
          "text": [
            "Epoch 3/10 (Validation): 100%|██████████| 36/36 [00:09<00:00,  3.72it/s]\n"
          ]
        },
        {
          "name": "stdout",
          "output_type": "stream",
          "text": [
            "Epoch 3/10, Average Validation Loss: 0.1137\n"
          ]
        },
        {
          "name": "stderr",
          "output_type": "stream",
          "text": [
            "Epoch 4/10 (Training): 100%|██████████| 142/142 [01:24<00:00,  1.68it/s]\n"
          ]
        },
        {
          "name": "stdout",
          "output_type": "stream",
          "text": [
            "Epoch 4/10, Average Training Loss: 0.0758\n"
          ]
        },
        {
          "name": "stderr",
          "output_type": "stream",
          "text": [
            "Epoch 4/10 (Validation): 100%|██████████| 36/36 [00:09<00:00,  3.72it/s]\n"
          ]
        },
        {
          "name": "stdout",
          "output_type": "stream",
          "text": [
            "Epoch 4/10, Average Validation Loss: 0.1181\n"
          ]
        },
        {
          "name": "stderr",
          "output_type": "stream",
          "text": [
            "Epoch 5/10 (Training): 100%|██████████| 142/142 [01:24<00:00,  1.68it/s]\n"
          ]
        },
        {
          "name": "stdout",
          "output_type": "stream",
          "text": [
            "Epoch 5/10, Average Training Loss: 0.0683\n"
          ]
        },
        {
          "name": "stderr",
          "output_type": "stream",
          "text": [
            "Epoch 5/10 (Validation): 100%|██████████| 36/36 [00:09<00:00,  3.68it/s]\n"
          ]
        },
        {
          "name": "stdout",
          "output_type": "stream",
          "text": [
            "Epoch 5/10, Average Validation Loss: 0.1141\n"
          ]
        },
        {
          "name": "stderr",
          "output_type": "stream",
          "text": [
            "Epoch 6/10 (Training): 100%|██████████| 142/142 [01:24<00:00,  1.68it/s]\n"
          ]
        },
        {
          "name": "stdout",
          "output_type": "stream",
          "text": [
            "Epoch 6/10, Average Training Loss: 0.0640\n"
          ]
        },
        {
          "name": "stderr",
          "output_type": "stream",
          "text": [
            "Epoch 6/10 (Validation): 100%|██████████| 36/36 [00:09<00:00,  3.68it/s]\n"
          ]
        },
        {
          "name": "stdout",
          "output_type": "stream",
          "text": [
            "Epoch 6/10, Average Validation Loss: 0.1314\n"
          ]
        },
        {
          "name": "stderr",
          "output_type": "stream",
          "text": [
            "Epoch 7/10 (Training): 100%|██████████| 142/142 [01:24<00:00,  1.69it/s]\n"
          ]
        },
        {
          "name": "stdout",
          "output_type": "stream",
          "text": [
            "Epoch 7/10, Average Training Loss: 0.0557\n"
          ]
        },
        {
          "name": "stderr",
          "output_type": "stream",
          "text": [
            "Epoch 7/10 (Validation): 100%|██████████| 36/36 [00:09<00:00,  3.68it/s]\n"
          ]
        },
        {
          "name": "stdout",
          "output_type": "stream",
          "text": [
            "Epoch 7/10, Average Validation Loss: 0.1190\n"
          ]
        },
        {
          "name": "stderr",
          "output_type": "stream",
          "text": [
            "Epoch 8/10 (Training): 100%|██████████| 142/142 [01:24<00:00,  1.68it/s]\n"
          ]
        },
        {
          "name": "stdout",
          "output_type": "stream",
          "text": [
            "Epoch 8/10, Average Training Loss: 0.0492\n"
          ]
        },
        {
          "name": "stderr",
          "output_type": "stream",
          "text": [
            "Epoch 8/10 (Validation): 100%|██████████| 36/36 [00:09<00:00,  3.70it/s]\n"
          ]
        },
        {
          "name": "stdout",
          "output_type": "stream",
          "text": [
            "Epoch 8/10, Average Validation Loss: 0.1192\n"
          ]
        },
        {
          "name": "stderr",
          "output_type": "stream",
          "text": [
            "Epoch 9/10 (Training): 100%|██████████| 142/142 [01:24<00:00,  1.68it/s]\n"
          ]
        },
        {
          "name": "stdout",
          "output_type": "stream",
          "text": [
            "Epoch 9/10, Average Training Loss: 0.0447\n"
          ]
        },
        {
          "name": "stderr",
          "output_type": "stream",
          "text": [
            "Epoch 9/10 (Validation): 100%|██████████| 36/36 [00:09<00:00,  3.71it/s]\n"
          ]
        },
        {
          "name": "stdout",
          "output_type": "stream",
          "text": [
            "Epoch 9/10, Average Validation Loss: 0.1211\n"
          ]
        },
        {
          "name": "stderr",
          "output_type": "stream",
          "text": [
            "Epoch 10/10 (Training): 100%|██████████| 142/142 [01:24<00:00,  1.68it/s]\n"
          ]
        },
        {
          "name": "stdout",
          "output_type": "stream",
          "text": [
            "Epoch 10/10, Average Training Loss: 0.0455\n"
          ]
        },
        {
          "name": "stderr",
          "output_type": "stream",
          "text": [
            "Epoch 10/10 (Validation): 100%|██████████| 36/36 [00:09<00:00,  3.69it/s]\n"
          ]
        },
        {
          "name": "stdout",
          "output_type": "stream",
          "text": [
            "Epoch 10/10, Average Validation Loss: 0.1162\n",
            "Model saved as faster_rcnn_finetuned.pth\n"
          ]
        }
      ],
      "source": [
        "num_epochs = 10  # Number of epochs to train the model\n",
        "model.train()  # Set the model to training mode\n",
        "train_losses = []  # List to store training losses for each epoch\n",
        "val_losses = []  # List to store validation losses for each epoch\n",
        "\n",
        "for epoch in range(num_epochs):\n",
        "    # Training phase\n",
        "    model.train()  # Ensure the model is in training mode\n",
        "    epoch_train_loss = 0  # Initialize the training loss for the current epoch\n",
        "    for images, targets in tqdm(train_loader, desc=f\"Epoch {epoch+1}/{num_epochs} (Training)\"):\n",
        "        # Move images and targets to the device (GPU or CPU)\n",
        "        images = list(image.to(device) for image in images)\n",
        "        targets = [{k: v.to(device) for k, v in t.items()} for t in targets]\n",
        "\n",
        "        # Forward pass to compute the loss\n",
        "        loss_dict = model(images, targets)\n",
        "        losses = sum(loss for loss in loss_dict.values())  # Sum up all the losses\n",
        "\n",
        "        # Backward pass and optimization\n",
        "        optimizer.zero_grad()  # Zero the gradients\n",
        "        losses.backward()  # Backpropagate the loss\n",
        "        optimizer.step()  # Update the model parameters\n",
        "\n",
        "        epoch_train_loss += losses.item()  # Accumulate the training loss\n",
        "\n",
        "    # Compute the average training loss for the epoch\n",
        "    avg_train_loss = epoch_train_loss / len(train_loader)\n",
        "    train_losses.append(avg_train_loss)  # Append the average training loss to the list\n",
        "    print(f\"Epoch {epoch+1}/{num_epochs}, Average Training Loss: {avg_train_loss:.4f}\")\n",
        "\n",
        "    # Validation phase\n",
        "    model.eval()  # Set the model to evaluation mode\n",
        "    epoch_val_loss = 0  # Initialize the validation loss for the current epoch\n",
        "    with torch.no_grad():  # Disable gradient computation for validation\n",
        "        for images, targets in tqdm(val_loader, desc=f\"Epoch {epoch+1}/{num_epochs} (Validation)\"):\n",
        "            # Move images and targets to the device (GPU or CPU)\n",
        "            images = list(image.to(device) for image in images)\n",
        "            targets = [{k: v.to(device) for k, v in t.items()} for t in targets]\n",
        "\n",
        "            # Temporarily enable training mode to compute losses\n",
        "            model.train()  # Switch to training mode to compute losses\n",
        "            loss_dict = model(images, targets)\n",
        "            losses = sum(loss for loss in loss_dict.values())  # Sum up all the losses\n",
        "            model.eval()  # Switch back to evaluation mode\n",
        "\n",
        "            epoch_val_loss += losses.item()  # Accumulate the validation loss\n",
        "\n",
        "    # Compute the average validation loss for the epoch\n",
        "    avg_val_loss = epoch_val_loss / len(val_loader)\n",
        "    val_losses.append(avg_val_loss)  # Append the average validation loss to the list\n",
        "    print(f\"Epoch {epoch+1}/{num_epochs}, Average Validation Loss: {avg_val_loss:.4f}\")\n",
        "\n",
        "# Save the fine-tuned model to a file\n",
        "torch.save(model.state_dict(), \"faster_rcnn_finetuned.pth\")\n",
        "print(\"Model saved as faster_rcnn_finetuned.pth\")"
      ]
    },
    {
      "cell_type": "code",
      "execution_count": null,
      "id": "431642ef-7a2a-42db-b8fe-ae1c6f51d5c9",
      "metadata": {
        "colab": {
          "base_uri": "https://localhost:8080/",
          "height": 419
        },
        "id": "431642ef-7a2a-42db-b8fe-ae1c6f51d5c9",
        "outputId": "eb117de1-64af-4e37-8a9d-3019f08c423f"
      },
      "outputs": [
        {
          "data": {
            "image/png": "[encoded data removed]",
            "text/plain": [
              "<Figure size 1000x600 with 1 Axes>"
            ]
          },
          "metadata": {},
          "output_type": "display_data"
        }
      ],
      "source": [
        "plt.figure(figsize=(10, 6))\n",
        "plt.plot(range(1, num_epochs + 1), train_losses, label='Training Loss')\n",
        "plt.plot(range(1, num_epochs + 1), val_losses, label='Validation Loss')\n",
        "plt.xlabel('Epoch')\n",
        "plt.ylabel('Loss')\n",
        "plt.title('Training and Validation Loss')\n",
        "plt.legend()\n",
        "plt.grid(True)\n",
        "plt.savefig('loss_plot.png')\n",
        "plt.show()"
      ]
    },
    {
      "cell_type": "code",
      "execution_count": null,
      "id": "e1884a91-61bb-4a79-92fd-836ab0ae1b9c",
      "metadata": {
        "id": "e1884a91-61bb-4a79-92fd-836ab0ae1b9c"
      },
      "outputs": [],
      "source": []
    }
  ],
  "metadata": {
    "accelerator": "GPU",
    "colab": {
      "gpuType": "T4",
      "provenance": []
    },
    "kernelspec": {
      "display_name": "Python 3",
      "name": "python3"
    },
    "language_info": {
      "codemirror_mode": {
        "name": "ipython",
        "version": 3
      },
      "file_extension": ".py",
      "mimetype": "text/x-python",
      "name": "python",
      "nbconvert_exporter": "python",
      "pygments_lexer": "ipython3",
      "version": "3.12.6"
    }
  },
  "nbformat": 4,
  "nbformat_minor": 5
}
