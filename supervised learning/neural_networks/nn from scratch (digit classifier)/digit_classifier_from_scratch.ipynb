{
  "cells": [
    {
      "cell_type": "code",
      "execution_count": 77,
      "metadata": {
        "id": "LVcuPsv4s9fa"
      },
      "outputs": [],
      "source": [
        "import numpy as np\n",
        "import pandas as pd\n",
        "from matplotlib import pyplot as plt"
      ]
    },
    {
      "cell_type": "code",
      "execution_count": null,
      "metadata": {
        "colab": {
          "base_uri": "https://localhost:8080/"
        },
        "id": "QdKFDmg3zpz4",
        "outputId": "0c0a13fe-05d8-405d-a448-be8aec382825"
      },
      "outputs": [
        {
          "name": "stdout",
          "output_type": "stream",
          "text": [
            "Mounted at /content/drive\n"
          ]
        }
      ],
      "source": [
        "from google.colab import drive\n",
        "drive.mount('/content/drive')"
      ]
    },
    {
      "cell_type": "code",
      "execution_count": null,
      "metadata": {
        "id": "A7LG1VHgtZnu"
      },
      "outputs": [],
      "source": [
        "# Copy dataset from Google Drive to Colab local storage for faster access\n",
        "!cp -r \"/content/drive/MyDrive/digit_recognizer/dataset\" \"/content/dataset\"\n",
        "\n",
        "# Define paths for training and testing files\n",
        "train_data_path  = '/content/dataset/train.csv'\n",
        "data_data_path  = '/content/dataset/test.csv'"
      ]
    },
    {
      "cell_type": "code",
      "execution_count": null,
      "metadata": {
        "id": "6ckLdwq-0Z5y"
      },
      "outputs": [],
      "source": [
        "df = pd.read_csv(train_data_path)"
      ]
    },
    {
      "cell_type": "code",
      "execution_count": null,
      "metadata": {
        "colab": {
          "base_uri": "https://localhost:8080/"
        },
        "id": "I8tmVW4i0lxK",
        "outputId": "70a43d46-4668-44f0-fe2b-13b8745065e5"
      },
      "outputs": [
        {
          "name": "stdout",
          "output_type": "stream",
          "text": [
            "<class 'pandas.core.frame.DataFrame'>\n",
            "RangeIndex: 42000 entries, 0 to 41999\n",
            "Columns: 785 entries, label to pixel783\n",
            "dtypes: int64(785)\n",
            "memory usage: 251.5 MB\n"
          ]
        }
      ],
      "source": [
        "df.info()"
      ]
    },
    {
      "cell_type": "markdown",
      "metadata": {
        "id": "22Vz2v1K07jZ"
      },
      "source": [
        "The first column, called \"**label**\", is the digit that was drawn by the user.\n",
        "\n",
        "Each image is 28 pixels in height and 28 pixels in width, for a total of **784 pixels** in total."
      ]
    },
    {
      "cell_type": "code",
      "execution_count": 76,
      "metadata": {
        "id": "sP2Q9PFh1Ud3"
      },
      "outputs": [],
      "source": [
        "# Convert DataFrame to NumPy array\n",
        "data = np.array(df)\n",
        "\n",
        "# Get the number of samples (m) and features (n = 1 label + 784 pixel values)\n",
        "m, n = data.shape\n",
        "\n",
        "# Shuffle the dataset rows to ensure randomness in train/dev split\n",
        "np.random.shuffle(data)\n",
        "\n",
        "# ======================= Development Set =======================\n",
        "# Select first 1000 samples and transpose\n",
        "data_dev = data[:1000].T   # (shape: 785 x 1000)\n",
        "Y_dev = data_dev[0]        # Row 0 contains labels\n",
        "X_dev = data_dev[1:n]      # Rows 1 to 784 contain pixel values\n",
        "X_dev = X_dev / 255.\n",
        "\n",
        "# ========================= Training Set ========================\n",
        "# Use the remaining samples and transpose\n",
        "data_train = data[1000:].T # (shape: 785 x (m - 1000))\n",
        "Y_train = data_train[0]    # Row 0 contains labels\n",
        "X_train = data_train[1:n]  # Rows 1 to 784 contain pixel values\n",
        "X_train = X_train / 255.\n"
      ]
    },
    {
      "cell_type": "code",
      "execution_count": 80,
      "metadata": {
        "id": "AE7NxKt51sAM"
      },
      "outputs": [],
      "source": [
        "def init_params():\n",
        "    # Initialize weights and biases for the neural network\n",
        "    W1 = np.random.rand(10, 784)  * 0.01  # Weights for layer 1 (10 x 784)\n",
        "    b1 = np.random.rand(10, 1)            # Biases for layer 1 (10 x 1)\n",
        "    W2 = np.random.rand(10, 10)  * 0.01   # Weights for layer 2 (10 x 10)\n",
        "    b2 = np.random.rand(10, 1)            # Biases for layer 2 (10 x 1)\n",
        "    return W1, b1, W2, b2\n",
        "\n",
        "def ReLU(Z):\n",
        "    # Apply ReLU activation function\n",
        "    return np.maximum(0, Z)\n",
        "\n",
        "def softmax(Z):\n",
        "    # Apply softmax activation function for output layer\n",
        "    expZ = np.exp(Z - np.max(Z, axis=0, keepdims=True))  # ✅ stability\n",
        "    return expZ / np.sum(expZ, axis=0, keepdims=True)\n",
        "\n",
        "def forward_prop(W1, b1, W2, b2, X):\n",
        "    # Perform forward propagation through the network\n",
        "    Z1 = W1.dot(X) + b1  # Linear transformation for layer 1\n",
        "    A1 = ReLU(Z1)        # Apply ReLU activation\n",
        "    Z2 = W2.dot(A1) + b2 # Linear transformation for layer 2\n",
        "    A2 = softmax(Z2)     # Apply softmax activation\n",
        "    return Z1, A1, Z2, A2\n",
        "\n",
        "def one_hot(Y):\n",
        "    # Convert labels to one-hot encoded vectors\n",
        "    return np.eye(10)[Y].T  # (10 x m)\n",
        "\n",
        "def deriv_ReLU(Z):\n",
        "    # Derivative of ReLU activation function\n",
        "    return Z > 0  # Returns boolean mask\n",
        "\n",
        "def back_prop(Z1, A1, Z2, A2, W2, X, Y):\n",
        "    # Perform backpropagation to compute gradients\n",
        "    m = Y.size\n",
        "    one_hot_Y = one_hot(Y)                      # Convert labels to one-hot encoding\n",
        "    dZ2 = A2 - one_hot_Y                        # Gradient of loss w.r.t Z2\n",
        "    dW2 = 1/m * dZ2.dot(A1.T)                   # Gradient of loss w.r.t W2\n",
        "    db2 = 1/m * np.sum(dZ2, axis=1, keepdims=True)  # Gradient of loss w.r.t b2\n",
        "    dZ1 = W2.T.dot(dZ2) * deriv_ReLU(Z1)        # Gradient of loss w.r.t Z1\n",
        "    dW1 = 1/m * dZ1.dot(X.T)                    # Gradient of loss w.r.t W1\n",
        "    db1 = 1/m * np.sum(dZ1, axis=1, keepdims=True)  # Gradient of loss w.r.t b1\n",
        "    return dW1, db1, dW2, db2\n",
        "\n",
        "def update_params(W1, b1, W2, b2, dW1, db1, dW2, db2, alpha):\n",
        "    # Update parameters using gradient descent\n",
        "    W1 -= alpha * dW1\n",
        "    b1 -= alpha * db1\n",
        "    W2 -= alpha * dW2\n",
        "    b2 -= alpha * db2\n",
        "    return W1, b1, W2, b2\n"
      ]
    },
    {
      "cell_type": "code",
      "execution_count": 79,
      "metadata": {
        "id": "QvntvkZmPiH6"
      },
      "outputs": [],
      "source": [
        "def get_predictions(A2):\n",
        "  # Get the index of the maximum value in each column (predicted class)\n",
        "  return np.argmax(A2, 0)\n",
        "\n",
        "def get_accuracy(predictions, Y):\n",
        "  # Calculate the accuracy by comparing predictions with true labels\n",
        "  return np.sum(predictions == Y) / Y.size\n",
        "\n",
        "def gradient_descent(X, Y, iterations, alpha):\n",
        "  # Initialize weights and biases\n",
        "  W1, b1, W2, b2 = init_params()\n",
        "\n",
        "  # Perform gradient descent for the specified number of iterations\n",
        "  for i in range(iterations):\n",
        "    # Forward propagation to compute activations\n",
        "    Z1, A1, Z2, A2 = forward_prop(W1, b1, W2, b2, X)\n",
        "\n",
        "    # Backpropagation to compute gradients\n",
        "    dW1, db1, dW2, db2 = back_prop(Z1, A1, Z2, A2, W2, X, Y)\n",
        "\n",
        "    # Update parameters using the computed gradients\n",
        "    W1, b1, W2, b2 = update_params(W1, b1, W2, b2, dW1, db1, dW2, db2, alpha)\n",
        "\n",
        "    # Print progress every 50 iterations\n",
        "    if i % 50 == 0:\n",
        "      print(\"Iteration: \", i)\n",
        "      print(\"Accuracy : \", get_accuracy(get_predictions(A2), Y))\n",
        "\n",
        "  # Return the updated weights and biases\n",
        "  return W1, b1, W2, b2\n"
      ]
    },
    {
      "cell_type": "code",
      "execution_count": 82,
      "metadata": {
        "colab": {
          "base_uri": "https://localhost:8080/"
        },
        "id": "-B3C122dTxjL",
        "outputId": "8ab5695f-8ed1-4cec-db18-082d87c9e95d"
      },
      "outputs": [
        {
          "name": "stdout",
          "output_type": "stream",
          "text": [
            "Iteration:  0\n",
            "Accuracy :  0.097\n",
            "Iteration:  50\n",
            "Accuracy :  0.20468292682926828\n",
            "Iteration:  100\n",
            "Accuracy :  0.40387804878048783\n",
            "Iteration:  150\n",
            "Accuracy :  0.7071463414634146\n",
            "Iteration:  200\n",
            "Accuracy :  0.7996829268292683\n",
            "Iteration:  250\n",
            "Accuracy :  0.8366341463414634\n",
            "Iteration:  300\n",
            "Accuracy :  0.8596341463414634\n",
            "Iteration:  350\n",
            "Accuracy :  0.8735609756097561\n",
            "Iteration:  400\n",
            "Accuracy :  0.882390243902439\n",
            "Iteration:  450\n",
            "Accuracy :  0.888219512195122\n"
          ]
        }
      ],
      "source": [
        "W1, b1, W2, b2 = gradient_descent(X_train, Y_train, 500, 0.1)"
      ]
    },
    {
      "cell_type": "code",
      "execution_count": 83,
      "metadata": {
        "id": "g6D1ZDzsUJjO"
      },
      "outputs": [],
      "source": [
        "def make_predictions(X, W1, b1, W2, b2):\n",
        "    # Perform forward propagation to compute the output activations\n",
        "    _, _, _, A2 = forward_prop(W1, b1, W2, b2, X)\n",
        "\n",
        "    # Get the predicted labels from the output activations\n",
        "    return get_predictions(A2)\n",
        "\n",
        "def test_prediction(index, W1, b1, W2, b2):\n",
        "    # Get the input image vector and true label at the specified index\n",
        "    image_vector = X_train[:, index, None]      # Extract the image vector (shape: 784 x 1)\n",
        "    true_label = Y_train[index]                 # Extract the true label (scalar)\n",
        "\n",
        "    # Predict the digit using the trained model\n",
        "    predicted_label = make_predictions(image_vector, W1, b1, W2, b2)[0]\n",
        "\n",
        "    # Reshape the flat image vector back to a 28x28 matrix for visualization\n",
        "    image_2D = image_vector.reshape(28, 28) * 255  # Scale pixel values back to 0-255\n",
        "\n",
        "    # Display the image along with the true and predicted labels\n",
        "    plt.gray()  # Set the colormap to grayscale\n",
        "    plt.imshow(image_2D, interpolation='nearest')  # Show the image\n",
        "    plt.title(f\"Label: {true_label}  |  Predicted: {predicted_label}\")  # Add title\n",
        "    plt.axis('off')  # Turn off the axes for better visualization\n",
        "    plt.show()\n"
      ]
    },
    {
      "cell_type": "code",
      "execution_count": null,
      "metadata": {
        "colab": {
          "base_uri": "https://localhost:8080/",
          "height": 1000
        },
        "id": "0Hh3rxgPUsWC",
        "outputId": "ffdb2351-d07c-4fe4-ca9a-6567547fb36f"
      },
      "outputs": [
        {
          "data": {
            "image/png": "[encoded data removed]",
            "text/plain": [
              "<Figure size 640x480 with 1 Axes>"
            ]
          },
          "metadata": {},
          "output_type": "display_data"
        },
        {
          "data": {
            "image/png": "[encoded data removed]",
            "text/plain": [
              "<Figure size 640x480 with 1 Axes>"
            ]
          },
          "metadata": {},
          "output_type": "display_data"
        },
        {
          "data": {
            "image/png": "[encoded data removed]",
            "text/plain": [
              "<Figure size 640x480 with 1 Axes>"
            ]
          },
          "metadata": {},
          "output_type": "display_data"
        },
        {
          "data": {
            "image/png": "[encoded data removed]",
            "text/plain": [
              "<Figure size 640x480 with 1 Axes>"
            ]
          },
          "metadata": {},
          "output_type": "display_data"
        }
      ],
      "source": [
        "test_prediction(0, W1, b1, W2, b2)\n",
        "test_prediction(1, W1, b1, W2, b2)\n",
        "test_prediction(4, W1K, b1, W2, b2)\n",
        "test_prediction(7, W1, b1, W2, b2)"
      ]
    },
    {
      "cell_type": "code",
      "execution_count": 85,
      "metadata": {
        "colab": {
          "base_uri": "https://localhost:8080/"
        },
        "id": "lxj3m-2mWwL3",
        "outputId": "b647a552-adae-4323-dbda-51c9143f4937"
      },
      "outputs": [
        {
          "data": {
            "text/plain": [
              "np.float64(0.905)"
            ]
          },
          "execution_count": 85,
          "metadata": {},
          "output_type": "execute_result"
        }
      ],
      "source": [
        "dev_predictions = make_predictions(X_dev, W1, b1, W2, b2)\n",
        "get_accuracy(dev_predictions, Y_dev)"
      ]
    },
    {
      "cell_type": "code",
      "execution_count": 86,
      "metadata": {
        "id": "DzwkSyKvbgiz"
      },
      "outputs": [],
      "source": [
        "np.savez(\"text_classifier_model_scratch\", W1=W1, b1=b1, W2=W2, b2=b2)"
      ]
    },
    {
      "cell_type": "code",
      "execution_count": 87,
      "metadata": {
        "colab": {
          "base_uri": "https://localhost:8080/",
          "height": 17
        },
        "id": "VvfKz_wnfUF9",
        "outputId": "cdc75f7b-ab1b-4397-8aa2-e09513081333"
      },
      "outputs": [
        {
          "data": {
            "application/javascript": "\n    async function download(id, filename, size) {\n      if (!google.colab.kernel.accessAllowed) {\n        return;\n      }\n      const div = document.createElement('div');\n      const label = document.createElement('label');\n      label.textContent = `Downloading \"${filename}\": `;\n      div.appendChild(label);\n      const progress = document.createElement('progress');\n      progress.max = size;\n      div.appendChild(progress);\n      document.body.appendChild(div);\n\n      const buffers = [];\n      let downloaded = 0;\n\n      const channel = await google.colab.kernel.comms.open(id);\n      // Send a message to notify the kernel that we're ready.\n      channel.send({})\n\n      for await (const message of channel.messages) {\n        // Send a message to notify the kernel that we're ready.\n        channel.send({})\n        if (message.buffers) {\n          for (const buffer of message.buffers) {\n            buffers.push(buffer);\n            downloaded += buffer.byteLength;\n            progress.value = downloaded;\n          }\n        }\n      }\n      const blob = new Blob(buffers, {type: 'application/binary'});\n      const a = document.createElement('a');\n      a.href = window.URL.createObjectURL(blob);\n      a.download = filename;\n      div.appendChild(a);\n      a.click();\n      div.remove();\n    }\n  ",
            "text/plain": [
              "<IPython.core.display.Javascript object>"
            ]
          },
          "metadata": {},
          "output_type": "display_data"
        },
        {
          "data": {
            "application/javascript": "download(\"download_2d2ae13f-3941-4bf7-93f3-891abe40e7b9\", \"text_classifier_model_scratch.npz\", 64646)",
            "text/plain": [
              "<IPython.core.display.Javascript object>"
            ]
          },
          "metadata": {},
          "output_type": "display_data"
        }
      ],
      "source": [
        "from google.colab import files\n",
        "files.download(\"text_classifier_model_scratch.npz\")"
      ]
    },
    {
      "cell_type": "code",
      "execution_count": null,
      "metadata": {
        "id": "LnWVmAezfm46"
      },
      "outputs": [],
      "source": []
    }
  ],
  "metadata": {
    "colab": {
      "provenance": []
    },
    "kernelspec": {
      "display_name": "venv",
      "language": "python",
      "name": "python3"
    },
    "language_info": {
      "name": "python",
      "version": "3.12.6"
    }
  },
  "nbformat": 4,
  "nbformat_minor": 0
}
