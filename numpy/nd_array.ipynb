{
 "cells": [
  {
   "cell_type": "markdown",
   "id": "10474354",
   "metadata": {},
   "source": [
    "# N-d Array"
   ]
  },
  {
   "cell_type": "code",
   "execution_count": 3,
   "id": "bd31c096",
   "metadata": {},
   "outputs": [],
   "source": [
    "import numpy as np"
   ]
  },
  {
   "cell_type": "code",
   "execution_count": 4,
   "id": "ff651c42",
   "metadata": {},
   "outputs": [
    {
     "name": "stdout",
     "output_type": "stream",
     "text": [
      "[[[ 1  2  3  4]\n",
      "  [ 5  6  7  8]\n",
      "  [ 9 10 11 12]]\n",
      "\n",
      " [[13 14 15 16]\n",
      "  [17 18 19 20]\n",
      "  [21 22 23 24]]] \n",
      "\n",
      "[1 2 3 4 5 6 7 8] \n",
      "\n",
      "[[1 2]\n",
      " [3 4]\n",
      " [5 6]\n",
      " [7 8]] \n",
      "\n",
      "[[[1 2]\n",
      "  [3 4]]\n",
      "\n",
      " [[5 6]\n",
      "  [7 8]]] \n",
      "\n",
      "[[[ 1  2  3  4]\n",
      "  [ 5  6  7  8]\n",
      "  [ 9 10 11 12]]\n",
      "\n",
      " [[13 14 15 16]\n",
      "  [17 18 19 20]\n",
      "  [21 22 23 24]]]\n"
     ]
    }
   ],
   "source": [
    "# create 1D array\n",
    "array1 = np.array([1, 2, 3, 4, 5, 6, 7, 8])\n",
    "\n",
    "# create 2D array\n",
    "array2 = np.array([[1, 2], [3, 4], [5, 6], [7, 8]])\n",
    "\n",
    "# create 3D array\n",
    "array3 = np.array([[[1, 2], [3, 4]], [[5, 6], [7, 8]]])\n",
    "\n",
    "# create a 3D array with 2 \"matrices\" of 3 rows and 4 columns each\n",
    "np_array = np.array(\n",
    "    [\n",
    "        [[1, 2, 3, 4], [5, 6, 7, 8], [9, 10, 11, 12]],\n",
    "        [[13, 14, 15, 16], [17, 18, 19, 20], [21, 22, 23, 24]],\n",
    "    ]\n",
    ")\n",
    "\n",
    "print(np_array, \"\\n\")\n",
    "\n",
    "print(array1, \"\\n\")\n",
    "print(array2, \"\\n\")\n",
    "print(array3, \"\\n\")\n",
    "print(np_array)"
   ]
  },
  {
   "cell_type": "code",
   "execution_count": 5,
   "id": "5e9be4e3",
   "metadata": {},
   "outputs": [
    {
     "name": "stdout",
     "output_type": "stream",
     "text": [
      "[[9.61893831e-312 2.86558075e-322 0.00000000e+000 0.00000000e+000]\n",
      " [4.24512503e+175 1.58817677e-052 7.42142791e-091 7.24744760e+169]\n",
      " [8.26993545e-072 3.30524533e+179 6.48224659e+170 5.82471487e+257]] \n",
      "\n",
      "[[[6.23042070e-307 1.29060531e-306 1.11260755e-306 1.24606309e-306]\n",
      "  [1.33512173e-306 6.23055651e-307 1.06810268e-306 6.89807188e-307]\n",
      "  [1.60218491e-306 1.02360867e-306 1.33511290e-306 1.11258854e-306]]\n",
      "\n",
      " [[1.11261502e-306 1.42410839e-306 7.56597770e-307 6.23059726e-307]\n",
      "  [1.42419530e-306 1.78018811e-306 1.33511562e-306 1.33510882e-306]\n",
      "  [9.34609790e-307 9.34609111e-307 1.33511290e-306 1.42410974e-306]]] \n",
      "\n",
      "[[0. 0. 0.]\n",
      " [0. 0. 0.]] \n",
      "\n",
      "[[[1. 1. 1.]\n",
      "  [1. 1. 1.]\n",
      "  [1. 1. 1.]]\n",
      "\n",
      " [[1. 1. 1.]\n",
      "  [1. 1. 1.]\n",
      "  [1. 1. 1.]]\n",
      "\n",
      " [[1. 1. 1.]\n",
      "  [1. 1. 1.]\n",
      "  [1. 1. 1.]]] \n",
      "\n",
      "[[5 5]\n",
      " [5 5]] \n",
      "\n"
     ]
    }
   ],
   "source": [
    "# create an empty 2-D array with 3 rows and 4 columns\n",
    "empty2d_np_array = np.empty((3, 4))\n",
    "\n",
    "# create an empty 3-D array with 2 matrices, 3 rows and 4 columns\n",
    "empty3d_np_array = np.empty((2, 3, 4))\n",
    "\n",
    "# create a 2x3 array filled with 0s\n",
    "zeros_np_array = np.zeros((2, 3))\n",
    "\n",
    "# create a 3x3x3 array filled with 1s\n",
    "ones_np_array = np.ones((3, 3, 3))\n",
    "\n",
    "# create 2x2 array all filled with the value 5\n",
    "filled_np_array = np.full((2, 2), 5)\n",
    "\n",
    "print(empty2d_np_array, \"\\n\")\n",
    "print(empty3d_np_array, \"\\n\")\n",
    "print(zeros_np_array, \"\\n\")\n",
    "print(ones_np_array, \"\\n\")\n",
    "print(filled_np_array, \"\\n\")"
   ]
  },
  {
   "cell_type": "markdown",
   "id": "a373f187",
   "metadata": {},
   "source": [
    "# Reshaping"
   ]
  },
  {
   "cell_type": "code",
   "execution_count": 61,
   "id": "bbd91286",
   "metadata": {},
   "outputs": [
    {
     "name": "stdout",
     "output_type": "stream",
     "text": [
      "New array with 'C' order:\n",
      " [[1 2 3 4]\n",
      " [5 6 7 8]]\n",
      "\n",
      "New array with 'F' order:\n",
      " [[1 3 5 7]\n",
      " [2 4 6 8]]\n",
      "\n",
      "3d array:\n",
      " [[[1 2]\n",
      "  [3 4]]\n",
      "\n",
      " [[5 6]\n",
      "  [7 8]]]\n",
      "[[1 2 3 4]\n",
      " [5 6 7 8]]\n",
      "[[1 2 3]\n",
      " [4 5 6]\n",
      " [7 8 9]]\n",
      "6\n",
      "[[[1 2]\n",
      "  [3 4]]\n",
      "\n",
      " [[5 6]\n",
      "  [7 8]]]\n",
      "8\n"
     ]
    }
   ],
   "source": [
    "# numpy.reshape(array, shape, order)\n",
    "\n",
    "# array - an original array\n",
    "# shape - desired new shape of the array\n",
    "# order (optional) - specifies the order in which the array elements are reshaped.\n",
    "# default order = 'C' elements are stored row-wise\n",
    "#         order = 'F' elements are stored column-wise\n",
    "\n",
    "# create a 1D array\n",
    "arr1d = np.array([1, 2, 3, 4, 5, 6, 7, 8])\n",
    "\n",
    "# reshape the array into a 2x4 array with 'C' order\n",
    "result1 = np.reshape(arr1d, (2, 4), order=\"C\")\n",
    "print(\"New array with 'C' order:\\n\", result1)\n",
    "\n",
    "# reshape the array into a 2x4 array with 'F' order\n",
    "result2 = np.reshape(arr1d, (2, 4), order=\"F\")\n",
    "print(\"\\nNew array with 'F' order:\\n\", result2)\n",
    "\n",
    "# reshape a 1D array into a 3D array\n",
    "# with 2 matrices, 2 rows and 2 cols\n",
    "arr3d = np.reshape(arr1d, (2, 2, 2))\n",
    "print(\"\\n3d array:\\n\", arr3d)\n",
    "\n",
    "# reshape the array with -1 for the second dimension\n",
    "result = np.reshape(arr1d, (2, -1))\n",
    "# we have limited the number of rows to 2 and left the number of columns open.\n",
    "print(result)\n",
    "\n",
    "arr1 = np.arange(1, 10).reshape((3, 3))  # 2d array with 3 rows and 3 cols\n",
    "print(arr1)\n",
    "\n",
    "# indexing\n",
    "print(arr1[1, 2])  # Output: 6\n",
    "\n",
    "arr2 = np.arange(1, 9).reshape((2, 2, 2))  # 3d array with 2 matrices, 2 rows and 2 cols\n",
    "print(arr2)\n",
    "\n",
    "# indexing\n",
    "print(arr2[(1, 1, 1)])  # output 8"
   ]
  },
  {
   "cell_type": "markdown",
   "id": "c0f23af2",
   "metadata": {},
   "source": [
    "# flatten"
   ]
  },
  {
   "cell_type": "code",
   "execution_count": null,
   "id": "6254ecf5",
   "metadata": {},
   "outputs": [
    {
     "name": "stdout",
     "output_type": "stream",
     "text": [
      "Reshape: [0 1 2 3 4 5 6 7]\n",
      "C: [0 1 2 3 4 5 6 7]\n",
      "F: [0 4 1 5 2 6 3 7]\n",
      "Ravel:  [0 1 2 3 4 5 6 7]\n",
      "[0 1 2 3 4 5 6 7]\n",
      "[0 1 2 3 4 5 6 7]\n"
     ]
    }
   ],
   "source": [
    "# Multi dimensional arrays can be converted to 1D arrays by collapsing other dimensions into one.\n",
    "# This is called array flattening.\n",
    "\n",
    "array1 = np.array([[0, 1, 2, 3], [4, 5, 6, 7]])\n",
    "\n",
    "# flatten the array using -1 as second argument of reshape\n",
    "reshaped_array = np.reshape(array1, -1)\n",
    "print(\"Reshape:\", reshaped_array)\n",
    "\n",
    "# flatten the array row-wise\n",
    "# default oder = 'C'\n",
    "result1 = array1.flatten()\n",
    "print(\"C:\", result1)\n",
    "\n",
    "# flatten the array column-wise\n",
    "result2 = array1.flatten(order=\"F\")\n",
    "print(\"F:\", result2)\n",
    "\n",
    "# if order = 'A', it will preserve the array's 'C' or 'F' ordering:\n",
    "\n",
    "# flatten the array\n",
    "result3 = np.ravel(array1)\n",
    "print(\"Ravel: \", result3)\n",
    "\n",
    "# difference between flatten and ravel\n",
    "\n",
    "# flatten is used as an array object\n",
    "array2 = array1.flatten()\n",
    "print(array2)\n",
    "\n",
    "# ravel is used as a library function\n",
    "array3 = np.ravel(array1)\n",
    "print(array3)\n",
    "\n",
    "# flatten() always returns a copy of the original array. if you modify copy it won't affect original array\n",
    "# whereas ravel() returns the view of the array. if you modify view it will affect original array\n",
    "\n",
    "# flatten cannot be used with lists, it only works with arrays\n",
    "# ravel can work with both"
   ]
  },
  {
   "cell_type": "markdown",
   "id": "5c87e553",
   "metadata": {},
   "source": [
    "# Slicing"
   ]
  },
  {
   "cell_type": "code",
   "execution_count": null,
   "id": "73c0b7c9",
   "metadata": {},
   "outputs": [
    {
     "name": "stdout",
     "output_type": "stream",
     "text": [
      "[[1 2 3]\n",
      " [4 5 6]\n",
      " [7 8 9]]\n",
      "\n",
      "\n",
      "[[1 2 3]\n",
      " [4 5 6]]\n",
      "\n",
      "\n",
      "[[[ 5  6  7  8]\n",
      "  [ 9 10 11 12]]\n",
      "\n",
      " [[17 18 19 20]\n",
      "  [21 22 23 24]]]\n"
     ]
    }
   ],
   "source": [
    "# for 2d\n",
    "arr = np.array([[1, 2, 3], [4, 5, 6], [7, 8, 9]])\n",
    "\n",
    "print(arr[:,:]) # all rows and all coulmns\n",
    "\n",
    "print(\"\\n\")\n",
    "\n",
    "print(arr[:2, :])  # 1st, 2nd row and all columns\n",
    "# Output: [[1 2 3] [4 5 6]] \n",
    "\n",
    "print(\"\\n\")\n",
    "\n",
    "print(np_array[:, 1:3])  # all rows and 2nd, 3rd columns \n",
    "# Output: [[2 3] [5 6] [8 9]]"
   ]
  },
  {
   "cell_type": "code",
   "execution_count": 24,
   "id": "1fd2d122",
   "metadata": {},
   "outputs": [
    {
     "name": "stdout",
     "output_type": "stream",
     "text": [
      "entire array:\n",
      " [[[1 2]\n",
      "  [3 4]]\n",
      "\n",
      " [[5 6]\n",
      "  [7 8]]]\n",
      "\n",
      "\n",
      "from second matrix select all rows and all columns:\n",
      " [[5 6]\n",
      " [7 8]]\n",
      "\n",
      "\n",
      "from all matrices select second row and all columns:\n",
      " [[3 4]\n",
      " [7 8]]\n",
      "\n",
      "\n",
      "from all matrices select all rows and second column:\n",
      " [[2 4]\n",
      " [6 8]]\n"
     ]
    }
   ],
   "source": [
    "# for 3d\n",
    "arr = np.array([[[1, 2], [3, 4]], [[5, 6], [7, 8]]])\n",
    "\n",
    "print(\"entire array:\\n\", arr[:, :, :])\n",
    "\n",
    "print(\"\\n\")\n",
    "\n",
    "print(\"from second matrix select all rows and all columns:\\n\", arr[1, :, :]) \n",
    "\n",
    "print(\"\\n\")\n",
    "\n",
    "print(\"from all matrices select second row and all columns:\\n\", arr[:, 1, :])  \n",
    "\n",
    "print(\"\\n\")\n",
    "\n",
    "print(\"from all matrices select all rows and second column:\\n\", arr[:,:,1])\n"
   ]
  },
  {
   "cell_type": "markdown",
   "id": "7fff464d",
   "metadata": {},
   "source": [
    "# Modifying"
   ]
  },
  {
   "cell_type": "code",
   "execution_count": null,
   "id": "edda8445",
   "metadata": {},
   "outputs": [
    {
     "name": "stdout",
     "output_type": "stream",
     "text": [
      "[[1 2 3]\n",
      " [4 5 6]\n",
      " [7 8 9]] \n",
      "\n",
      "[[ 1  2  3]\n",
      " [ 4  5 10]\n",
      " [ 7  8  9]] \n",
      "\n",
      "[[ 1  2  3]\n",
      " [10 10 10]\n",
      " [ 7  8  9]] \n",
      "\n"
     ]
    }
   ],
   "source": [
    "# for 2d\n",
    "arr = np.array([[1, 2, 3], [4, 5, 6], [7, 8, 9]])\n",
    "print(arr, \"\\n\")\n",
    "\n",
    "# change the value of element in second row and third column to 10\n",
    "arr[1, 2] = 10\n",
    "\n",
    "print(arr, \"\\n\")\n",
    "\n",
    "# change the value of all elements in second row to 10\n",
    "arr[1, :] = 10\n",
    "\n",
    "print(arr, \"\\n\")\n"
   ]
  },
  {
   "cell_type": "code",
   "execution_count": 78,
   "id": "58e6889f",
   "metadata": {},
   "outputs": [
    {
     "name": "stdout",
     "output_type": "stream",
     "text": [
      "[[[1 2]\n",
      "  [3 4]]\n",
      "\n",
      " [[5 6]\n",
      "  [7 8]]] \n",
      "\n",
      "\n",
      "change the value of element in first matrix, 2nd row and 2nd column to 10:\n",
      " [[[ 1  2]\n",
      "  [ 3 10]]\n",
      "\n",
      " [[ 5  6]\n",
      "  [ 7  8]]] \n",
      "\n",
      "change the value of all elements in second matrix, second row to 20:\n",
      " [[[ 1  2]\n",
      "  [ 3 10]]\n",
      "\n",
      " [[ 5  6]\n",
      "  [20 20]]] \n",
      "\n",
      "change the value of all elements in second matrix to 11:\n",
      " [[[ 1  2]\n",
      "  [ 3 10]]\n",
      "\n",
      " [[11 11]\n",
      "  [11 11]]] \n",
      "\n",
      "change the value of elements from all matrices, from all rows and 2nd column to 9:\n",
      " [[[ 1  9]\n",
      "  [ 3  9]]\n",
      "\n",
      " [[11  9]\n",
      "  [11  9]]] \n",
      "\n"
     ]
    }
   ],
   "source": [
    "# for 3d\n",
    "\n",
    "arr = np.array([[[1, 2], [3, 4]], [[5, 6], [7, 8]]])\n",
    "print(arr, \"\\n\\n\")\n",
    "\n",
    "arr[0, 1, 1] = 10\n",
    "print(\"change the value of element in first matrix, 2nd row and 2nd column to 10:\\n\",arr, \"\\n\")\n",
    "\n",
    "arr[1, 1, :] = 20\n",
    "print(\"change the value of all elements in second matrix, second row to 20:\\n\",arr, \"\\n\")\n",
    "\n",
    "arr[1, :, :] = 11\n",
    "print(\"change the value of all elements in second matrix to 11:\\n\",arr, \"\\n\")\n",
    "\n",
    "arr[:, :, 1] = 9\n",
    "print(\"change the value of elements from all matrices, from all rows and 2nd column to 9:\\n\",arr, \"\\n\")"
   ]
  }
 ],
 "metadata": {
  "kernelspec": {
   "display_name": "venv",
   "language": "python",
   "name": "python3"
  },
  "language_info": {
   "codemirror_mode": {
    "name": "ipython",
    "version": 3
   },
   "file_extension": ".py",
   "mimetype": "text/x-python",
   "name": "python",
   "nbconvert_exporter": "python",
   "pygments_lexer": "ipython3",
   "version": "3.12.6"
  }
 },
 "nbformat": 4,
 "nbformat_minor": 5
}
