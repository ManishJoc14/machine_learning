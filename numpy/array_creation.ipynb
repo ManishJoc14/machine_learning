{
 "cells": [
  {
   "cell_type": "code",
   "execution_count": null,
   "id": "587b66be",
   "metadata": {},
   "outputs": [],
   "source": [
    "import numpy as np"
   ]
  },
  {
   "cell_type": "markdown",
   "id": "5e1ed607",
   "metadata": {},
   "source": [
    "# Array Creation"
   ]
  },
  {
   "cell_type": "code",
   "execution_count": null,
   "id": "366909b2",
   "metadata": {},
   "outputs": [
    {
     "data": {
      "text/plain": [
       "array([1, 2, 3, 4, 5])"
      ]
     },
     "execution_count": 3,
     "metadata": {},
     "output_type": "execute_result"
    }
   ],
   "source": [
    "# create numpy array using the numbers list\n",
    "arr = np.array([1,2,3,4,5])\n",
    "\n",
    "arr"
   ]
  },
  {
   "cell_type": "code",
   "execution_count": null,
   "id": "d10ecef1",
   "metadata": {},
   "outputs": [
    {
     "data": {
      "text/plain": [
       "array([0.0e+000, 4.9e-324, 9.9e-324, 1.5e-323, 2.0e-323, 2.5e-323])"
      ]
     },
     "execution_count": 29,
     "metadata": {},
     "output_type": "execute_result"
    }
   ],
   "source": [
    "# create an empty array with total capacity of 6\n",
    "empty_array = np.empty(6)\n",
    "empty_array"
   ]
  },
  {
   "cell_type": "code",
   "execution_count": null,
   "id": "6017741b",
   "metadata": {},
   "outputs": [
    {
     "data": {
      "text/plain": [
       "array([1., 1., 1., 1., 1.])"
      ]
     },
     "execution_count": 6,
     "metadata": {},
     "output_type": "execute_result"
    }
   ],
   "source": [
    "# create an array with 5 elements filled with zeros\n",
    "arr = np.zeros(5)\n",
    "arr"
   ]
  },
  {
   "cell_type": "code",
   "execution_count": 7,
   "id": "6345e671",
   "metadata": {},
   "outputs": [
    {
     "data": {
      "text/plain": [
       "array([1., 1., 1., 1., 1.])"
      ]
     },
     "execution_count": 7,
     "metadata": {},
     "output_type": "execute_result"
    }
   ],
   "source": [
    "# create an array with 5 elements filled with ones\n",
    "arr = np.ones(5)\n",
    "arr"
   ]
  },
  {
   "cell_type": "code",
   "execution_count": null,
   "id": "ccc440c4",
   "metadata": {},
   "outputs": [
    {
     "name": "stdout",
     "output_type": "stream",
     "text": [
      "[0 1 2 3 4 5]\n",
      "[3 5 7 9]\n"
     ]
    }
   ],
   "source": [
    "# np.arange(start, stop, size)\n",
    "# Default values\n",
    "# start- the start value, 0 by default\n",
    "# stop - exclusive\n",
    "# (optional) size is 1. \n",
    "\n",
    "# create an array with values from 0 to 5\n",
    "array1 = np.arange(6)\n",
    "print(array1)\n",
    "\n",
    "# create an array with values from 3 to 9 with a size of 2\n",
    "array2 = np.arange(3, 10, 2)\n",
    "print(array2)"
   ]
  },
  {
   "cell_type": "code",
   "execution_count": null,
   "id": "30d93c02",
   "metadata": {},
   "outputs": [
    {
     "data": {
      "text/plain": [
       "array([ 1.,  4.,  7., 10.])"
      ]
     },
     "execution_count": 13,
     "metadata": {},
     "output_type": "execute_result"
    }
   ],
   "source": [
    "# np.linspace(start, stop, nums)\n",
    "# start- the start value, 0 by default\n",
    "# stop- the end value of the sequence (inclusive)\n",
    "# nums(optional)- number of elements to generate (int)\n",
    "\n",
    "# create an array with 4 elements between 1 and 10\n",
    "array1 = np.linspace(1, 10, 4)\n",
    "array1"
   ]
  },
  {
   "cell_type": "code",
   "execution_count": 15,
   "id": "83b236f1",
   "metadata": {},
   "outputs": [
    {
     "name": "stdout",
     "output_type": "stream",
     "text": [
      "[10 14 18 22 26 30 34 38 42 46]\n",
      "[10.         23.33333333 36.66666667 50.        ]\n"
     ]
    }
   ],
   "source": [
    "# elements between 10 and 50 with stepsize 4\n",
    "array1 = np.arange(10, 50 , 4)\n",
    "print(array1)\n",
    "\n",
    "# generate 4 elements between 10 and 50 \n",
    "array2 = np.linspace(10, 50 , 4)\n",
    "print(array2)"
   ]
  },
  {
   "cell_type": "code",
   "execution_count": 23,
   "id": "b0d7d1d1",
   "metadata": {},
   "outputs": [
    {
     "name": "stdout",
     "output_type": "stream",
     "text": [
      "25\n",
      "[20 86 30 20 90]\n",
      "[0.31565938 0.98925155 0.16937249 0.61642123]\n"
     ]
    }
   ],
   "source": [
    "# random number between 1 and 100\n",
    "random_number = np.random.randint(1, 100)\n",
    "print(random_number)\n",
    "\n",
    "# array of length 5 with random integer values ranging from 1 to 100 both inclusive\n",
    "rand_array = np.random.randint(1, 100, size=5)\n",
    "print(rand_array)\n",
    "\n",
    "# generate an array of 4 random numbers between 0 and 1\n",
    "array1 = np.random.rand(4)\n",
    "print(array1)"
   ]
  }
 ],
 "metadata": {
  "kernelspec": {
   "display_name": "venv",
   "language": "python",
   "name": "python3"
  },
  "language_info": {
   "codemirror_mode": {
    "name": "ipython",
    "version": 3
   },
   "file_extension": ".py",
   "mimetype": "text/x-python",
   "name": "python",
   "nbconvert_exporter": "python",
   "pygments_lexer": "ipython3",
   "version": "3.12.6"
  }
 },
 "nbformat": 4,
 "nbformat_minor": 5
}
