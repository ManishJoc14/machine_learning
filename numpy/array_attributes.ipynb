{
 "cells": [
  {
   "cell_type": "code",
   "execution_count": 1,
   "id": "e023133a",
   "metadata": {},
   "outputs": [],
   "source": [
    "import numpy as np"
   ]
  },
  {
   "cell_type": "markdown",
   "id": "2a46791e",
   "metadata": {},
   "source": [
    "# Numpy array attributes"
   ]
  },
  {
   "cell_type": "code",
   "execution_count": 11,
   "id": "b3dc21ca",
   "metadata": {},
   "outputs": [],
   "source": [
    "arr1 = np.array([1,2,3,4,5,6,7,8]) \n",
    "arr2 = np.array([[1,2],[3,4],[5,6],[7,8]])\n",
    "arr3 = np.array([\n",
    "  [[1,2], [3,4]],\n",
    "  [[5,6], [7,8]]\n",
    "])\n"
   ]
  },
  {
   "cell_type": "code",
   "execution_count": 10,
   "id": "b991a853",
   "metadata": {},
   "outputs": [
    {
     "name": "stdout",
     "output_type": "stream",
     "text": [
      "ndim1:  1\n",
      "ndim2:  2\n",
      "ndim3:  3\n"
     ]
    }
   ],
   "source": [
    "# ndim - specifies the number of dimensions of an array\n",
    "print(\"ndim1: \", arr1.ndim) # for 1d array it is 1\n",
    "print(\"ndim2: \", arr2.ndim) # for 2d array it is 2\n",
    "print(\"ndim3: \", arr3.ndim) # for 3d array it is 3"
   ]
  },
  {
   "cell_type": "code",
   "execution_count": null,
   "id": "8628a27d",
   "metadata": {},
   "outputs": [
    {
     "name": "stdout",
     "output_type": "stream",
     "text": [
      "shape1:  (8,)\n",
      "shape2:  (4, 2)\n",
      "shape3:  (2, 2, 2)\n",
      "\n",
      "\n"
     ]
    }
   ],
   "source": [
    "# shape - returns the size of the array in each dimension\n",
    "print(\"shape1: \", arr1.shape) # for 1d it is just number of elements\n",
    "print(\"shape2: \", arr2.shape) # for 2d it is (number of rows, number of columns)\n",
    "print(\"shape3: \", arr3.shape) # for 3d it is (number of matrices, number of rows, number of columns)"
   ]
  },
  {
   "cell_type": "code",
   "execution_count": null,
   "id": "15e8c3ff",
   "metadata": {},
   "outputs": [
    {
     "name": "stdout",
     "output_type": "stream",
     "text": [
      "size1:  8\n",
      "size2:  8\n",
      "size3:  8\n"
     ]
    }
   ],
   "source": [
    "# size - specifies total number of elements in the array\n",
    "print(\"size1: \", arr1.size) # 8 * 1 = 8\n",
    "print(\"size2: \", arr2.size) # 4 * 2 = 8\n",
    "print(\"size3: \", arr3.size) # 2 * 2 * 2 = 8"
   ]
  },
  {
   "cell_type": "code",
   "execution_count": null,
   "id": "4c130b25",
   "metadata": {},
   "outputs": [
    {
     "name": "stdout",
     "output_type": "stream",
     "text": [
      "dtype:  int64\n",
      "dtype:  float64\n",
      "dtype:  complex128\n"
     ]
    }
   ],
   "source": [
    "# dtype - specifies the data type of elements of the array (float, int, or complex)\n",
    "int_arr = np.array([1,2,3])\n",
    "float_arr = np.array([1.0,2.0,3.0])\n",
    "img_arr = np.array([1+2j, 3+4j, 5+6j])\n",
    "\n",
    "print(\"dtype: \", int_arr.dtype)\n",
    "print(\"dtype: \", float_arr.dtype)\n",
    "print(\"dtype: \", img_arr.dtype)"
   ]
  },
  {
   "cell_type": "code",
   "execution_count": 18,
   "id": "780ad2df",
   "metadata": {},
   "outputs": [
    {
     "name": "stdout",
     "output_type": "stream",
     "text": [
      "itemsize:  8\n",
      "itemsize:  8\n",
      "itemsize:  16\n"
     ]
    }
   ],
   "source": [
    "# itemsize - represents the size in bytes of each element of the array\n",
    "\n",
    "print(\"itemsize: \", int_arr.itemsize)\n",
    "print(\"itemsize: \", float_arr.itemsize)\n",
    "print(\"itemsize: \", img_arr.itemsize)\n"
   ]
  },
  {
   "cell_type": "code",
   "execution_count": 19,
   "id": "3eaebeda",
   "metadata": {},
   "outputs": [
    {
     "name": "stdout",
     "output_type": "stream",
     "text": [
      "nbytes:  24\n",
      "nbytes:  24\n",
      "nbytes:  48\n"
     ]
    }
   ],
   "source": [
    "# nbytes - represents total size in bytes of the array (nbytes = itemsize * size)\n",
    "\n",
    "print(\"nbytes: \", int_arr.nbytes)\n",
    "print(\"nbytes: \", float_arr.nbytes)\n",
    "print(\"nbytes: \", img_arr.nbytes)\n"
   ]
  }
 ],
 "metadata": {
  "kernelspec": {
   "display_name": "venv",
   "language": "python",
   "name": "python3"
  },
  "language_info": {
   "codemirror_mode": {
    "name": "ipython",
    "version": 3
   },
   "file_extension": ".py",
   "mimetype": "text/x-python",
   "name": "python",
   "nbconvert_exporter": "python",
   "pygments_lexer": "ipython3",
   "version": "3.12.6"
  }
 },
 "nbformat": 4,
 "nbformat_minor": 5
}
