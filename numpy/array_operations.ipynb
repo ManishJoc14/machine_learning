{
 "cells": [
  {
   "cell_type": "code",
   "execution_count": 1,
   "id": "5917abc5",
   "metadata": {},
   "outputs": [],
   "source": [
    "import numpy as np"
   ]
  },
  {
   "cell_type": "markdown",
   "id": "309de685",
   "metadata": {},
   "source": [
    "# Basic Arithmetic (element-wise)"
   ]
  },
  {
   "cell_type": "code",
   "execution_count": 23,
   "id": "3a9c0a62",
   "metadata": {},
   "outputs": [
    {
     "name": "stdout",
     "output_type": "stream",
     "text": [
      "[ 1  2  3  4  5  6  7  8  9 10]\n",
      "[11 12 13 14 15 16 17 18 19 20]\n",
      "[21 22 23 24 25 26 27 28 29 30]\n"
     ]
    }
   ],
   "source": [
    "arr1 = np.arange(1,11)\n",
    "arr2 = np.arange(11,21)\n",
    "arr3 = np.arange(21,31)\n",
    "\n",
    "print(arr1)\n",
    "print(arr2)\n",
    "print(arr3)"
   ]
  },
  {
   "cell_type": "code",
   "execution_count": 24,
   "id": "9b65e2de",
   "metadata": {},
   "outputs": [
    {
     "name": "stdout",
     "output_type": "stream",
     "text": [
      "add     :  [31 32 33 34 35 36 37 38 39 40]\n",
      "subtract:  [11 12 13 14 15 16 17 18 19 20]\n",
      "multiply:  [210 220 230 240 250 260 270 280 290 300]\n",
      "divide  :  [2.1 2.2 2.3 2.4 2.5 2.6 2.7 2.8 2.9 3. ]\n",
      "power   :  [31 28 29 18 19 16 17 22 23 20]\n",
      "mod     :  [1 2 3 4 5 6 7 8 9 0]\n"
     ]
    }
   ],
   "source": [
    "print(\"add     : \", arr3 + 10)\n",
    "print(\"subtract: \", arr3 - 10)\n",
    "print(\"multiply: \", arr3 * 10)\n",
    "print(\"divide  : \", arr3 / 10)\n",
    "print(\"power   : \", arr3 ^ 10)\n",
    "print(\"mod     : \", arr3 % 10)"
   ]
  },
  {
   "cell_type": "code",
   "execution_count": 25,
   "id": "c578ac75",
   "metadata": {},
   "outputs": [
    {
     "name": "stdout",
     "output_type": "stream",
     "text": [
      "\n",
      "add [12 14 16 18 20 22 24 26 28 30]\n",
      "add [12 14 16 18 20 22 24 26 28 30]\n",
      "\n",
      "subtract [-10 -10 -10 -10 -10 -10 -10 -10 -10 -10]\n",
      "subtract [-10 -10 -10 -10 -10 -10 -10 -10 -10 -10]\n",
      "\n",
      "multiply [ 11  24  39  56  75  96 119 144 171 200]\n",
      "multiply [ 11  24  39  56  75  96 119 144 171 200]\n",
      "\n",
      "divide [0.09090909 0.16666667 0.23076923 0.28571429 0.33333333 0.375\n",
      " 0.41176471 0.44444444 0.47368421 0.5       ]\n",
      "divide [0.09090909 0.16666667 0.23076923 0.28571429 0.33333333 0.375\n",
      " 0.41176471 0.44444444 0.47368421 0.5       ]\n",
      "\n",
      "power [                  1                4096             1594323\n",
      "           268435456         30517578125       2821109907456\n",
      "     232630513987207   18014398509481984 1350851717672992089\n",
      " 7766279631452241920]\n",
      "power [                  1                4096             1594323\n",
      "           268435456         30517578125       2821109907456\n",
      "     232630513987207   18014398509481984 1350851717672992089\n",
      " 7766279631452241920]\n",
      "\n",
      "mod [ 1  2  3  4  5  6  7  8  9 10]\n",
      "mod [ 1  2  3  4  5  6  7  8  9 10]\n"
     ]
    }
   ],
   "source": [
    "print(\"\\nadd\", arr1 + arr2)\n",
    "print(\"add\", np.add(arr1, arr2))\n",
    "\n",
    "print(\"\\nsubtract\", arr1 - arr2)\n",
    "print(\"subtract\", np.subtract(arr1, arr2))\n",
    "\n",
    "print(\"\\nmultiply\", arr1 * arr2)\n",
    "print(\"multiply\", np.multiply(arr1, arr2))\n",
    "\n",
    "print(\"\\ndivide\", arr1 / arr2)\n",
    "print(\"divide\", np.divide(arr1, arr2))\n",
    "\n",
    "print(\"\\npower\", arr1 ** arr2)\n",
    "print(\"power\", np.power(arr1, arr2))\n",
    "\n",
    "print(\"\\nmod\", arr1 % arr2)\n",
    "print(\"mod\", np.mod(arr1, arr2))\n",
    "\n"
   ]
  },
  {
   "cell_type": "markdown",
   "id": "d0eeb72a",
   "metadata": {},
   "source": [
    "# Aggregate Functions (reduce whole array)"
   ]
  },
  {
   "cell_type": "code",
   "execution_count": 26,
   "id": "cf1c1d6c",
   "metadata": {},
   "outputs": [
    {
     "name": "stdout",
     "output_type": "stream",
     "text": [
      "sum   : 45\n",
      "prod  : 0\n",
      "mean  : 4.5\n",
      "median: 4.5\n",
      "std   : 2.8722813232690143\n",
      "var   : 8.25\n",
      "min   : 0\n",
      "max   : 9\n",
      "argmin: 0\n",
      "argmax: 9\n"
     ]
    }
   ],
   "source": [
    "arr = np.arange(10)\n",
    "\n",
    "print(\"sum   :\", np.sum(arr))     # Sum of all elements\n",
    "print(\"prod  :\", np.prod(arr))    # Product of all elements\n",
    "print(\"mean  :\", np.mean(arr))    # Mean (average)\n",
    "print(\"median:\", np.median(arr))  # Median\n",
    "print(\"std   :\", np.std(arr))     # Standard deviation\n",
    "print(\"var   :\", np.var(arr))     # Variance\n",
    "print(\"min   :\", np.min(arr))     # Minimum element\n",
    "print(\"max   :\", np.max(arr))     # Maximum element\n",
    "print(\"argmin:\", np.argmin(arr))  # Index of minimum element\n",
    "print(\"argmax:\", np.argmax(arr))  # Index of maximum element"
   ]
  },
  {
   "cell_type": "markdown",
   "id": "92c4bd47",
   "metadata": {},
   "source": [
    "# Exponential and Logarithmic functions"
   ]
  },
  {
   "cell_type": "code",
   "execution_count": 30,
   "id": "45000e8d",
   "metadata": {},
   "outputs": [
    {
     "name": "stdout",
     "output_type": "stream",
     "text": [
      "\n",
      "exp    : [2.71828183e+00 7.38905610e+00 2.00855369e+01 5.45981500e+01\n",
      " 1.48413159e+02 4.03428793e+02 1.09663316e+03 2.98095799e+03\n",
      " 8.10308393e+03 2.20264658e+04]\n",
      "\n",
      "log    : [0.         0.69314718 1.09861229 1.38629436 1.60943791 1.79175947\n",
      " 1.94591015 2.07944154 2.19722458 2.30258509]\n",
      "\n",
      "log10  : [0.         0.30103    0.47712125 0.60205999 0.69897    0.77815125\n",
      " 0.84509804 0.90308999 0.95424251 1.        ]\n",
      "\n",
      "log2   : [0.         1.         1.5849625  2.         2.32192809 2.5849625\n",
      " 2.80735492 3.         3.169925   3.32192809]\n"
     ]
    }
   ],
   "source": [
    "arr = np.arange(1,11)\n",
    "\n",
    "print(\"\\nexp    :\", np.exp(arr))     # e^x for each element\n",
    "print(\"\\nlog    :\", np.log(arr))     # Natural log (ln)\n",
    "print(\"\\nlog10  :\", np.log10(arr))   # Base-10 log\n",
    "print(\"\\nlog2   :\", np.log2(arr))    # Base-2 log"
   ]
  },
  {
   "cell_type": "markdown",
   "id": "906dc3d9",
   "metadata": {},
   "source": [
    "# Trigonometric functions"
   ]
  },
  {
   "cell_type": "code",
   "execution_count": 51,
   "id": "d540fcea",
   "metadata": {},
   "outputs": [
    {
     "name": "stdout",
     "output_type": "stream",
     "text": [
      "\n",
      "sin    : [ 0.84147098  0.90929743  0.14112001 -0.7568025  -0.95892427 -0.2794155\n",
      "  0.6569866   0.98935825  0.41211849 -0.54402111]\n",
      "\n",
      "cos    : [ 0.54030231 -0.41614684 -0.9899925  -0.65364362  0.28366219  0.96017029\n",
      "  0.75390225 -0.14550003 -0.91113026 -0.83907153]\n",
      "\n",
      "tan    : [ 1.55740772 -2.18503986 -0.14254654  1.15782128 -3.38051501 -0.29100619\n",
      "  0.87144798 -6.79971146 -0.45231566  0.64836083]\n",
      "\n",
      "arcsin : [0.10016742 0.20135792 0.30469265 0.41151685 0.52359878 0.64350111\n",
      " 0.7753975  0.92729522 1.11976951 1.57079633]\n",
      "\n",
      "arccos : [1.47062891 1.36943841 1.26610367 1.15927948 1.04719755 0.92729522\n",
      " 0.79539883 0.64350111 0.45102681 0.        ]\n",
      "\n",
      "arctan : [0.78539816 1.10714872 1.24904577 1.32581766 1.37340077 1.40564765\n",
      " 1.42889927 1.44644133 1.46013911 1.47112767]\n"
     ]
    }
   ],
   "source": [
    "arr = np.arange(1,11)\n",
    "\n",
    "print(\"\\nsin    :\", np.sin(arr))     # Sine\n",
    "print(\"\\ncos    :\", np.cos(arr))     # Cosine\n",
    "print(\"\\ntan    :\", np.tan(arr))     # Tangent\n",
    "print(\"\\narcsin :\", np.arcsin(np.clip(arr/10, -1, 1)))  # Inverse sine (values between -1 and 1)\n",
    "print(\"\\narccos :\", np.arccos(np.clip(arr/10, -1, 1)))  # Inverse cosine\n",
    "print(\"\\narctan :\", np.arctan(arr))  # Inverse tangent"
   ]
  },
  {
   "cell_type": "markdown",
   "id": "bd5bb896",
   "metadata": {},
   "source": [
    "# Rounding and Flooring"
   ]
  },
  {
   "cell_type": "code",
   "execution_count": 58,
   "id": "130e1657",
   "metadata": {},
   "outputs": [
    {
     "name": "stdout",
     "output_type": "stream",
     "text": [
      "round  : [1. 2. 3.]\n",
      "round  : [1.23 2.35 3.46]\n",
      "floor  : [1. 2. 3.]\n",
      "ceil   : [2. 3. 4.]\n",
      "trunc  : [1. 2. 3.]\n",
      "rint   : [1. 2. 3.]\n"
     ]
    }
   ],
   "source": [
    "arr = np.array([1.2345, 2.3456, 3.4567])\n",
    "\n",
    "print(\"round  :\", np.round(arr))    # Round to nearest\n",
    "print(\"round  :\", np.round(arr, 2)) # Round to 2 decimal places\n",
    "\n",
    "print(\"floor  :\", np.floor(arr))    # Floor (round down)\n",
    "print(\"ceil   :\", np.ceil(arr))     # Ceil (round up)\n",
    "\n",
    "print(\"trunc  :\",np.trunc(arr))    # Truncate (keeps the integer part)\n",
    "print(\"rint   :\",np.rint(arr))     # Behaves like round(), but outputs float numbers\n"
   ]
  },
  {
   "cell_type": "markdown",
   "id": "3fda5e15",
   "metadata": {},
   "source": [
    "# Miscellaneous"
   ]
  },
  {
   "cell_type": "code",
   "execution_count": 53,
   "id": "922afc4d",
   "metadata": {},
   "outputs": [
    {
     "name": "stdout",
     "output_type": "stream",
     "text": [
      "\n",
      "sqrt   : [1.         1.41421356 1.73205081 2.         2.23606798 2.44948974\n",
      " 2.64575131 2.82842712 3.         3.16227766]\n",
      "\n",
      "abs    : [ 1  2  3  4  5  6  7  8  9 10]\n",
      "\n",
      "clip   : [3 3 3 4 5 6 7 7 7 7]\n",
      "\n",
      "cumsum : [ 1  3  6 10 15 21 28 36 45 55]\n",
      "\n",
      "cumprod: [      1       2       6      24     120     720    5040   40320  362880\n",
      " 3628800]\n"
     ]
    }
   ],
   "source": [
    "arr = np.arange(1,11)\n",
    "\n",
    "print(\"\\nsqrt   :\", np.sqrt(arr))       # Square root\n",
    "print(\"\\nabs    :\", np.abs(-arr))       # Absolute value\n",
    "print(\"\\nclip   :\", np.clip(arr, 3, 7)) # Limit values between 3 and 7\n",
    "print(\"\\ncumsum :\", np.cumsum(arr))     # Cumulative sum\n",
    "print(\"\\ncumprod:\", np.cumprod(arr))    # Cumulative product"
   ]
  }
 ],
 "metadata": {
  "kernelspec": {
   "display_name": "venv",
   "language": "python",
   "name": "python3"
  },
  "language_info": {
   "codemirror_mode": {
    "name": "ipython",
    "version": 3
   },
   "file_extension": ".py",
   "mimetype": "text/x-python",
   "name": "python",
   "nbconvert_exporter": "python",
   "pygments_lexer": "ipython3",
   "version": "3.12.6"
  }
 },
 "nbformat": 4,
 "nbformat_minor": 5
}
