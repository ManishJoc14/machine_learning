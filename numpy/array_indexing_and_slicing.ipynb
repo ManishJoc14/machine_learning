{
 "cells": [
  {
   "cell_type": "code",
   "execution_count": 4,
   "id": "5f99a9ad",
   "metadata": {},
   "outputs": [],
   "source": [
    "import numpy as np"
   ]
  },
  {
   "cell_type": "markdown",
   "id": "a8cb81d3",
   "metadata": {},
   "source": [
    "# Array indexing"
   ]
  },
  {
   "cell_type": "code",
   "execution_count": 9,
   "id": "5138d4c0",
   "metadata": {},
   "outputs": [
    {
     "name": "stdout",
     "output_type": "stream",
     "text": [
      "1\n",
      "2\n",
      "3\n",
      "4\n",
      "5\n",
      "5\n",
      "4\n",
      "3\n",
      "2\n",
      "1\n",
      "[2 4 1]\n"
     ]
    }
   ],
   "source": [
    "arr = np.array([1, 2, 3, 4, 5])\n",
    "\n",
    "# access numpy elements\n",
    "print(arr[0])    # 1\n",
    "print(arr[1])    # 2\n",
    "print(arr[2])    # 3\n",
    "print(arr[3])    # 4\n",
    "print(arr[4])    # 5\n",
    "\n",
    "# using negative indexing\n",
    "print(arr[-1])    # 5\n",
    "print(arr[-2])    # 4\n",
    "print(arr[-3])    # 3\n",
    "print(arr[-4])    # 2\n",
    "print(arr[-5])    # 1\n",
    "\n",
    "# select elements at index multiple indices like at 1, 3, 0\n",
    "print(arr[[1, 3, 0]])"
   ]
  },
  {
   "cell_type": "markdown",
   "id": "beba6932",
   "metadata": {},
   "source": [
    "# Fancy indexing"
   ]
  },
  {
   "cell_type": "code",
   "execution_count": null,
   "id": "79cf203c",
   "metadata": {},
   "outputs": [
    {
     "name": "stdout",
     "output_type": "stream",
     "text": [
      "nums1:  [0 1 2]\n",
      "nums2:  [3 4 5 6 7 8 9]\n",
      "nums3:  [7 8 9]\n",
      "nums4:  [0 1 2 3 4 5 6]\n",
      "nums5:  [3 4 5 6]\n",
      "nums6:  [1 3 5 7 9]\n",
      "nums7:  [0 2 4 6 8]\n",
      "nums8:  [0 1 2 3 4 5 6 7 8 9]\n",
      "nums9:  [9 8 7 6 5 4 3 2 1 0]\n"
     ]
    }
   ],
   "source": [
    "# arr[start:end:step]\n",
    "# start is default to 0\n",
    "# end is default to array's end (excluded)\n",
    "# step is optional default to 1\n",
    "\n",
    "numbers = np.arange(10)  # 0-9\n",
    "\n",
    "# access the first 3 elements\n",
    "nums1 = numbers[:3]\n",
    "\n",
    "# access the elements except first 3 elements\n",
    "nums2 = numbers[3:]\n",
    "\n",
    "# access the last 3 elements\n",
    "nums3 = numbers[-3:]\n",
    "\n",
    "# access the elements except last 3 elements\n",
    "nums4 = numbers[:-3]\n",
    "\n",
    "# access the elemensts between first 3 and last 3\n",
    "nums5 = numbers[3:-3]\n",
    "\n",
    "# access every elements at odd indices\n",
    "nums6 = numbers[1::2]  # start is 1 and step is 2\n",
    "\n",
    "# access every elements at even indices\n",
    "nums7 = numbers[::2]  # start is 0 and step is 2\n",
    "\n",
    "# access elements from start to end without using any number\n",
    "nums8 = numbers[:]\n",
    "\n",
    "# access the elements in reverse order\n",
    "nums9 = numbers[::-1]  # setp is -1 so, it reads backward\n",
    "\n",
    "print(\"nums1: \",nums1)\n",
    "print(\"nums2: \",nums2)\n",
    "print(\"nums3: \",nums3)\n",
    "print(\"nums4: \",nums4)\n",
    "print(\"nums5: \",nums5)\n",
    "print(\"nums6: \",nums6)\n",
    "print(\"nums7: \",nums7)\n",
    "print(\"nums8: \",nums8)\n",
    "print(\"nums9: \",nums9)"
   ]
  },
  {
   "cell_type": "markdown",
   "id": "7f28127f",
   "metadata": {},
   "source": [
    "# Boolean indexing"
   ]
  },
  {
   "cell_type": "code",
   "execution_count": null,
   "id": "bc51ee7c",
   "metadata": {},
   "outputs": [
    {
     "name": "stdout",
     "output_type": "stream",
     "text": [
      "[0 2 4 6 8]\n",
      "[1 3 5 7 9]\n",
      "[7 8 9]\n",
      "[False False False False False False False  True  True  True]\n"
     ]
    }
   ],
   "source": [
    "numbers = np.arange(10) # 0-9\n",
    "\n",
    "# select only the even numbers from the array\n",
    "even_numbers = numbers[numbers % 2 == 0]\n",
    "\n",
    "# select only the odd numbers from the array\n",
    "odd_numbers = numbers[numbers % 2 != 0]\n",
    "\n",
    "# select only the numbers which are greater then 6\n",
    "large_numbers = numbers[numbers > 6]\n",
    "\n",
    "print(even_numbers)\n",
    "print(odd_numbers)\n",
    "print(large_numbers)\n",
    "\n",
    "# actually 'numbers > 6' creates a boolean mask which can be used to select numbers for which it is true\n",
    "print(numbers > 6)"
   ]
  },
  {
   "cell_type": "markdown",
   "id": "bb952132",
   "metadata": {},
   "source": [
    "# Modifying elements"
   ]
  },
  {
   "cell_type": "code",
   "execution_count": null,
   "id": "dd9c2a6b",
   "metadata": {},
   "outputs": [
    {
     "name": "stdout",
     "output_type": "stream",
     "text": [
      "[ 0  1  2  3 88  5  6  7  8  9]\n",
      "[ 0  1 99  3 88 99 99  7  8  9]\n",
      "[ 0  1  0  3  0 99  0  7  0  9]\n",
      "[ 0 11  0 11  0 11  0 11  0 11]\n",
      "[ 0 98  0 98  0 98  0 98  0 98]\n",
      "[10 98 10 98 10 98 10 98 10 98]\n"
     ]
    }
   ],
   "source": [
    "numbers = np.arange(10)\n",
    "\n",
    "# set element at 4th index to 88 \n",
    "numbers[4] = 88\n",
    "print(numbers)\n",
    "\n",
    "# set elements at indices 3,5,6 to 99\n",
    "numbers[[2,5,6]] = 99\n",
    "print(numbers)\n",
    "\n",
    "# set every elements at even indices to 0\n",
    "numbers[::2] = 0\n",
    "print(numbers)\n",
    "\n",
    "# set every elements at odd indices to 11\n",
    "numbers[1::2] = 11\n",
    "print(numbers)\n",
    "\n",
    "# set every elements greater then 8 to 98\n",
    "numbers[numbers > 8] = 98\n",
    "print(numbers)\n",
    "\n",
    "# set every elements which are 0 to 10\n",
    "numbers[numbers == 0] = 10\n",
    "print(numbers)"
   ]
  }
 ],
 "metadata": {
  "kernelspec": {
   "display_name": "venv",
   "language": "python",
   "name": "python3"
  },
  "language_info": {
   "codemirror_mode": {
    "name": "ipython",
    "version": 3
   },
   "file_extension": ".py",
   "mimetype": "text/x-python",
   "name": "python",
   "nbconvert_exporter": "python",
   "pygments_lexer": "ipython3",
   "version": "3.12.6"
  }
 },
 "nbformat": 4,
 "nbformat_minor": 5
}
